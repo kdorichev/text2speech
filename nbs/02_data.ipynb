{
 "cells": [
  {
   "cell_type": "code",
   "execution_count": null,
   "metadata": {},
   "outputs": [],
   "source": [
    "from nbdev import *"
   ]
  },
  {
   "cell_type": "code",
   "execution_count": null,
   "metadata": {},
   "outputs": [
    {
     "name": "stdout",
     "output_type": "stream",
     "text": [
      "Cells will be exported to text2speech.data,\n",
      "unless a different module is specified after an export flag: `%nbdev_export special.module`\n"
     ]
    }
   ],
   "source": [
    "%nbdev_default_export data"
   ]
  },
  {
   "cell_type": "code",
   "execution_count": null,
   "metadata": {},
   "outputs": [],
   "source": [
    "from pathlib import Path"
   ]
  },
  {
   "cell_type": "code",
   "execution_count": null,
   "metadata": {},
   "outputs": [],
   "source": [
    "#hide\n",
    "from fastcore.test import *\n",
    "from nbdev.showdoc import *"
   ]
  },
  {
   "cell_type": "markdown",
   "metadata": {},
   "source": [
    "# Data Processing\n",
    ">Functions used for data processing"
   ]
  },
  {
   "cell_type": "code",
   "execution_count": null,
   "metadata": {},
   "outputs": [],
   "source": [
    "from fastcore.all import *\n",
    "from fastai2_audio.core.all import *"
   ]
  },
  {
   "cell_type": "code",
   "execution_count": null,
   "metadata": {},
   "outputs": [],
   "source": [
    "#hide\n",
    "def _get_files(p, fs, extensions=None):\n",
    "    \"Construct a list of `Path`s from a list of files `fs` in directory`p`\"\n",
    "    p = Path(p)\n",
    "    res = [p/f for f in fs \n",
    "           if not f.startswith('.') # not hidden file\n",
    "              and ((not extensions) or f'.{f.split(\".\")[-1].lower()}' in extensions)]\n",
    "    return res"
   ]
  },
  {
   "cell_type": "code",
   "execution_count": null,
   "metadata": {},
   "outputs": [],
   "source": [
    "%nbdev_export\n",
    "def get_files(path, extensions=None, recurse=True, folders=None, followlinks=True):\n",
    "    \"Get all the files in `path` with optional `extensions`, optionally with `recurse`, only in `folders`, if specified.\"\n",
    "    path = Path(path)\n",
    "    folders = setify(folders)\n",
    "    extensions = setify(extensions)\n",
    "    extensions = {e.lower() for e in extensions}\n",
    "    if recurse:\n",
    "        res = []\n",
    "        for i,(p,d,f) in enumerate(os.walk(path, followlinks=followlinks)): # returns (dirpath, dirnames, filenames)\n",
    "            if folders and not set(folders).issubset(p.split('/')): continue\n",
    "            else: res += _get_files(p, f, extensions)\n",
    "    else:\n",
    "        f = [o.name for o in os.scandir(path) if o.is_file()]\n",
    "        res = _get_files(path, f, extensions)\n",
    "    return L(res)"
   ]
  },
  {
   "cell_type": "code",
   "execution_count": null,
   "metadata": {},
   "outputs": [],
   "source": [
    "%nbdev_export\n",
    "def get_audio_files(path, recurse=True, folders=None):\n",
    "    \"Get audio files in `path` recursively, only in `folders`, if specified.\"\n",
    "    return get_files(path, extensions=audio_extensions, recurse=recurse, folders=folders)"
   ]
  },
  {
   "cell_type": "code",
   "execution_count": null,
   "metadata": {},
   "outputs": [],
   "source": [
    "%nbdev_export\n",
    "def get_txt_files(path, recurse=True, folders=None):\n",
    "    \"Get audio files in `path` recursively, only in `folders`, if specified.\"\n",
    "    return get_files(path, extensions='.txt', recurse=recurse, folders=folders)"
   ]
  },
  {
   "cell_type": "markdown",
   "metadata": {},
   "source": [
    "## Dataset directory structure\n",
    "```\n",
    "Dicovery/\n",
    "└── doc1\n",
    "    └── AmericaFactsVsFiction\n",
    "        ├── EHD_120764D\n",
    "        │   └── Voituk\n",
    "        │       ├── Direct_speech\n",
    "        │       │   ├── txt\n",
    "        │       │   └── wav\n",
    "        │       └── Narrative\n",
    "        │           ├── txt\n",
    "        │           └── wav\n",
    "        └── EHD_120765D\n",
    "            └── Voituk\n",
    "                ├── Direct_speech\n",
    "                │   ├── txt\n",
    "                │   └── wav\n",
    "                └── Narrative\n",
    "                    ├── txt\n",
    "                    └── wav\n",
    "```"
   ]
  },
  {
   "cell_type": "code",
   "execution_count": null,
   "metadata": {},
   "outputs": [],
   "source": [
    "path = Path('/home/condor/datasets/Dicovery/')"
   ]
  },
  {
   "cell_type": "code",
   "execution_count": null,
   "metadata": {},
   "outputs": [
    {
     "data": {
      "text/plain": [
       "(#544) [Path('/home/condor/datasets/Dicovery/doc1/AmericaFactsVsFiction/EHD_120764D/Voituk/Direct_speech/wav/68.wav'),Path('/home/condor/datasets/Dicovery/doc1/AmericaFactsVsFiction/EHD_120764D/Voituk/Direct_speech/wav/45.wav'),Path('/home/condor/datasets/Dicovery/doc1/AmericaFactsVsFiction/EHD_120764D/Voituk/Direct_speech/wav/165.wav'),Path('/home/condor/datasets/Dicovery/doc1/AmericaFactsVsFiction/EHD_120764D/Voituk/Direct_speech/wav/46.wav'),Path('/home/condor/datasets/Dicovery/doc1/AmericaFactsVsFiction/EHD_120764D/Voituk/Direct_speech/wav/218.wav'),Path('/home/condor/datasets/Dicovery/doc1/AmericaFactsVsFiction/EHD_120764D/Voituk/Direct_speech/wav/31.wav'),Path('/home/condor/datasets/Dicovery/doc1/AmericaFactsVsFiction/EHD_120764D/Voituk/Direct_speech/wav/125.wav'),Path('/home/condor/datasets/Dicovery/doc1/AmericaFactsVsFiction/EHD_120764D/Voituk/Direct_speech/wav/146.wav'),Path('/home/condor/datasets/Dicovery/doc1/AmericaFactsVsFiction/EHD_120764D/Voituk/Direct_speech/wav/265.wav'),Path('/home/condor/datasets/Dicovery/doc1/AmericaFactsVsFiction/EHD_120764D/Voituk/Direct_speech/wav/170.wav')...]"
      ]
     },
     "execution_count": null,
     "metadata": {},
     "output_type": "execute_result"
    }
   ],
   "source": [
    "get_audio_files(path)"
   ]
  },
  {
   "cell_type": "code",
   "execution_count": null,
   "metadata": {},
   "outputs": [
    {
     "data": {
      "text/plain": [
       "(#501) [Path('/home/condor/datasets/Dicovery/doc1/AmericaFactsVsFiction/EHD_120764D/Voituk/Narrative/wav/102.wav'),Path('/home/condor/datasets/Dicovery/doc1/AmericaFactsVsFiction/EHD_120764D/Voituk/Narrative/wav/199.wav'),Path('/home/condor/datasets/Dicovery/doc1/AmericaFactsVsFiction/EHD_120764D/Voituk/Narrative/wav/82.wav'),Path('/home/condor/datasets/Dicovery/doc1/AmericaFactsVsFiction/EHD_120764D/Voituk/Narrative/wav/182.wav'),Path('/home/condor/datasets/Dicovery/doc1/AmericaFactsVsFiction/EHD_120764D/Voituk/Narrative/wav/258.wav'),Path('/home/condor/datasets/Dicovery/doc1/AmericaFactsVsFiction/EHD_120764D/Voituk/Narrative/wav/212.wav'),Path('/home/condor/datasets/Dicovery/doc1/AmericaFactsVsFiction/EHD_120764D/Voituk/Narrative/wav/26.wav'),Path('/home/condor/datasets/Dicovery/doc1/AmericaFactsVsFiction/EHD_120764D/Voituk/Narrative/wav/115.wav'),Path('/home/condor/datasets/Dicovery/doc1/AmericaFactsVsFiction/EHD_120764D/Voituk/Narrative/wav/120.wav'),Path('/home/condor/datasets/Dicovery/doc1/AmericaFactsVsFiction/EHD_120764D/Voituk/Narrative/wav/255.wav')...]"
      ]
     },
     "execution_count": null,
     "metadata": {},
     "output_type": "execute_result"
    }
   ],
   "source": [
    "get_audio_files(path, folders=['Voituk','Narrative'])"
   ]
  },
  {
   "cell_type": "code",
   "execution_count": null,
   "metadata": {},
   "outputs": [],
   "source": [
    "test_eq(len(get_audio_files(path, folders=['Voituk','Narrative'])) +\n",
    "        len(get_audio_files(path, folders=['Voituk','Direct_speech'])),\n",
    "        len(get_audio_files(path, folders=['Voituk']))) "
   ]
  },
  {
   "cell_type": "code",
   "execution_count": null,
   "metadata": {},
   "outputs": [],
   "source": [
    "test_eq(len(get_audio_files(path, folders=['Voituk','Direct_speech','EHD_120764D'])) +\n",
    "        len(get_audio_files(path, folders=['Voituk','Direct_speech','EHD_120765D'])),\n",
    "        len(get_audio_files(path, folders=['Voituk','Direct_speech']))) "
   ]
  },
  {
   "cell_type": "code",
   "execution_count": null,
   "metadata": {},
   "outputs": [],
   "source": [
    "test_eq(len(get_audio_files(path, folders=['Voituk','Narrative'])),\n",
    "        len(get_txt_files  (path, folders=['Voituk','Narrative'])))"
   ]
  },
  {
   "cell_type": "code",
   "execution_count": null,
   "metadata": {},
   "outputs": [
    {
     "name": "stdout",
     "output_type": "stream",
     "text": [
      "Converted 01_text_norm.ipynb.\n",
      "Converted 02_data.ipynb.\n",
      "Converted index.ipynb.\n"
     ]
    }
   ],
   "source": [
    "#hide\n",
    "from nbdev.export import notebook2script\n",
    "notebook2script()"
   ]
  },
  {
   "cell_type": "code",
   "execution_count": null,
   "metadata": {},
   "outputs": [],
   "source": []
  }
 ],
 "metadata": {
  "kernelspec": {
   "display_name": "Python 3",
   "language": "python",
   "name": "python3"
  }
 },
 "nbformat": 4,
 "nbformat_minor": 4
}
