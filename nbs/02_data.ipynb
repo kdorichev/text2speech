{
 "cells": [
  {
   "cell_type": "markdown",
   "metadata": {},
   "source": [
    "# Data Processing\n",
    ">Functions used for data processing"
   ]
  },
  {
   "cell_type": "code",
   "execution_count": null,
   "metadata": {},
   "outputs": [],
   "source": [
    "#hide\n",
    "from nbdev import *"
   ]
  },
  {
   "cell_type": "code",
   "execution_count": null,
   "metadata": {},
   "outputs": [
    {
     "name": "stdout",
     "output_type": "stream",
     "text": [
      "Cells will be exported to text2speech.data,\n",
      "unless a different module is specified after an export flag: `%nbdev_export special.module`\n"
     ]
    }
   ],
   "source": [
    "%nbdev_default_export data"
   ]
  },
  {
   "cell_type": "code",
   "execution_count": null,
   "metadata": {},
   "outputs": [],
   "source": [
    "%nbdev_export\n",
    "from pathlib import Path"
   ]
  },
  {
   "cell_type": "code",
   "execution_count": null,
   "metadata": {},
   "outputs": [],
   "source": [
    "#hide\n",
    "from fastcore.test import *\n",
    "from nbdev.showdoc import *"
   ]
  },
  {
   "cell_type": "code",
   "execution_count": null,
   "metadata": {},
   "outputs": [],
   "source": [
    "%nbdev_export\n",
    "import seaborn as sns\n",
    "sns.set()"
   ]
  },
  {
   "cell_type": "code",
   "execution_count": null,
   "metadata": {},
   "outputs": [],
   "source": [
    "%nbdev_export\n",
    "from fastcore.all import *\n",
    "from fastai2.data.all import *\n",
    "from fastai2_audio.core.all import *"
   ]
  },
  {
   "cell_type": "code",
   "execution_count": null,
   "metadata": {},
   "outputs": [],
   "source": [
    "%nbdev_export\n",
    "from spacy.lang.ru import Russian\n",
    "from spacy_russian_tokenizer import RussianTokenizer, MERGE_PATTERNS"
   ]
  },
  {
   "cell_type": "code",
   "execution_count": null,
   "metadata": {},
   "outputs": [],
   "source": [
    "%nbdev_export\n",
    "from text2speech.text_norm import *"
   ]
  },
  {
   "cell_type": "code",
   "execution_count": null,
   "metadata": {},
   "outputs": [],
   "source": [
    "%nbdev_export\n",
    "def _get_files(p, fs, extensions=None):\n",
    "    \"Construct a list of `Path`s from a list of files `fs` in directory`p`\"\n",
    "    p = Path(p)\n",
    "    res = [p/f for f in fs \n",
    "           if not f.startswith('.') # not hidden file\n",
    "              and ((not extensions) or f'.{f.split(\".\")[-1].lower()}' in extensions)]\n",
    "    return res"
   ]
  },
  {
   "cell_type": "code",
   "execution_count": null,
   "metadata": {},
   "outputs": [],
   "source": [
    "%nbdev_export\n",
    "def get_files(path, extensions=None, recurse=True, folders=None, followlinks=True):\n",
    "    \"Get all the files in `path` with optional `extensions`, optionally with `recurse`, only in `folders`, if specified.\"\n",
    "    path = Path(path)\n",
    "    folders = setify(folders)\n",
    "    extensions = setify(extensions)\n",
    "    extensions = {e.lower() for e in extensions}\n",
    "    if recurse:\n",
    "        res = []\n",
    "        for i,(p,d,f) in enumerate(os.walk(path, followlinks=followlinks)): # returns (dirpath, dirnames, filenames)\n",
    "            if folders and not set(folders).issubset(p.split('/')): continue\n",
    "            else: res += _get_files(p, f, extensions)\n",
    "    else:\n",
    "        f = [o.name for o in os.scandir(path) if o.is_file()]\n",
    "        res = _get_files(path, f, extensions)\n",
    "    return L(res)"
   ]
  },
  {
   "cell_type": "code",
   "execution_count": null,
   "metadata": {},
   "outputs": [],
   "source": [
    "%nbdev_export\n",
    "def get_audio_files(path, recurse=True, folders=None):\n",
    "    \"Get audio files in `path` recursively, only in `folders`, if specified.\"\n",
    "    return get_files(path, extensions=audio_extensions, recurse=recurse, folders=folders)"
   ]
  },
  {
   "cell_type": "code",
   "execution_count": null,
   "metadata": {},
   "outputs": [],
   "source": [
    "%nbdev_export\n",
    "def get_txt_files(path, recurse=True, folders=None):\n",
    "    \"Get audio files in `path` recursively, only in `folders`, if specified.\"\n",
    "    return get_files(path, extensions='.txt', recurse=recurse, folders=folders)"
   ]
  },
  {
   "cell_type": "code",
   "execution_count": null,
   "metadata": {},
   "outputs": [],
   "source": [
    "path = Path('/home/condor/datasets/Dicovery/')"
   ]
  },
  {
   "cell_type": "code",
   "execution_count": null,
   "metadata": {},
   "outputs": [],
   "source": [
    "test_eq(len(get_audio_files(path, folders=['Voituk','Narrative'])) +\n",
    "        len(get_audio_files(path, folders=['Voituk','Names'])) +\n",
    "        len(get_audio_files(path, folders=['Voituk','Direct_speech'])),\n",
    "        len(get_audio_files(path, folders=['Voituk']))) "
   ]
  },
  {
   "cell_type": "code",
   "execution_count": null,
   "metadata": {},
   "outputs": [],
   "source": [
    "test_eq(len(get_audio_files(path, folders=['Voituk','Narrative','EHD_120768D'] )),\n",
    "        len(get_txt_files  (path, folders=['Voituk','Narrative','EHD_120768D'])))"
   ]
  },
  {
   "cell_type": "code",
   "execution_count": null,
   "metadata": {},
   "outputs": [],
   "source": [
    "%nbdev_export\n",
    "def words_count(files, sort=True, drop_punkt=True):\n",
    "    \"Return a dict of words in `files` with counts, sorted by default\"\n",
    "    wc = {}\n",
    "    nlp = Russian()\n",
    "    russian_tokenizer = RussianTokenizer(nlp, MERGE_PATTERNS)\n",
    "    nlp.add_pipe(russian_tokenizer, name='russian_tokenizer')\n",
    "    _punct = \".,?!;:+-«»–\"\n",
    "    \n",
    "    for file in files:\n",
    "        with open(file) as f:\n",
    "            text = f.read()    \n",
    "            \n",
    "        for token  in nlp((russian_cleaner(text))):\n",
    "            if drop_punkt and (token.is_punct | token.is_space | (token.text in _punct + \"». », !», ?» »:\")): continue\n",
    "            if token.text not in wc:\n",
    "                wc[token.text] = 1\n",
    "            else:\n",
    "                wc[token.text] += 1\n",
    "        \n",
    "    if sort: return {k: v for k, v in sorted(wc.items(), key=lambda item: item[1], reverse=True)}\n",
    "    else:    return wc"
   ]
  },
  {
   "cell_type": "code",
   "execution_count": null,
   "metadata": {},
   "outputs": [],
   "source": [
    "%nbdev_export\n",
    "def label_func(fname):\n",
    "    \"Return path to audio file corresponding to text `fname`\"\n",
    "    return Path(fname).parent.parent/'audio'/f'{Path(fname).stem}.flac'"
   ]
  },
  {
   "cell_type": "code",
   "execution_count": null,
   "metadata": {},
   "outputs": [],
   "source": [
    "test_eq(str(label_func('/home/condor/datasets/Dicovery/doc1/AmericaFactsVsFiction/EHD_120764D/Voituk/Direct_speech/txt/170.txt')),\n",
    "                       '/home/condor/datasets/Dicovery/doc1/AmericaFactsVsFiction/EHD_120764D/Voituk/Direct_speech/audio/170.flac')"
   ]
  },
  {
   "cell_type": "code",
   "execution_count": null,
   "metadata": {},
   "outputs": [],
   "source": [
    "%nbdev_export\n",
    "def ReadTxt(fn):\n",
    "    \"Read text from `fn`\"\n",
    "    with open(fn) as f:\n",
    "        txt = f.read()\n",
    "    return txt"
   ]
  },
  {
   "cell_type": "code",
   "execution_count": null,
   "metadata": {},
   "outputs": [],
   "source": [
    "test_eq(ReadTxt('/home/condor/datasets/Dicovery/doc1/AmericaFactsVsFiction/EHD_120764D/Voituk/Direct_speech/txt/170.txt'),\n",
    "        'о нём снимали фильмы, писали романы, то из чего американцы узнают о своей истории, хотя и напрасно.')"
   ]
  },
  {
   "cell_type": "code",
   "execution_count": null,
   "metadata": {},
   "outputs": [],
   "source": [
    "%nbdev_export\n",
    "def word_in_files(word, files, show=False, play=False):\n",
    "    \"Return an L list of `files` where `word` is present; optionally `show` and/or `play`\"\n",
    "    if not isinstance(files, L): files = L(files)\n",
    "\n",
    "    nlp = Russian()\n",
    "    russian_tokenizer = RussianTokenizer(nlp, MERGE_PATTERNS)\n",
    "    found_in = set()\n",
    "    \n",
    "    for f in files:\n",
    "        doc = nlp(ReadTxt(f))\n",
    "        for token in doc:\n",
    "            if token.text == word:\n",
    "                found_in.add(f)\n",
    "\n",
    "    for item in found_in:\n",
    "        if show: print(item); print(ReadTxt(item))\n",
    "        if play: \n",
    "            audio = AudioTensor.create(label_func(item))\n",
    "            audio.hear()\n",
    "    return L(found_in)"
   ]
  },
  {
   "cell_type": "code",
   "execution_count": null,
   "metadata": {},
   "outputs": [],
   "source": [
    "files = '/home/condor/datasets/Dicovery/doc1/AmericaFactsVsFiction/EHD_120764D/Voituk/Direct_speech/txt/170.txt'\n",
    "test_eq(word_in_files('романы', files)[0],\n",
    "'/home/condor/datasets/Dicovery/doc1/AmericaFactsVsFiction/EHD_120764D/Voituk/Direct_speech/txt/170.txt')"
   ]
  },
  {
   "cell_type": "code",
   "execution_count": null,
   "metadata": {},
   "outputs": [],
   "source": [
    "%nbdev_export\n",
    "def plot_durations(files, figsize=None):\n",
    "    \"Plot audio `files` duration distribution\"\n",
    "    durations = []\n",
    "    for f in files:\n",
    "        at = AudioTensor.create(label_func(f))\n",
    "        durations.append(at.duration)\n",
    "    durations = torch.tensor(durations)\n",
    "    figsize=(14,4) if figsize is None else figsize\n",
    "    ax=plt.subplots(1,1,figsize=figsize)[1]\n",
    "\n",
    "    max_dur = math.ceil(durations.max())\n",
    "    sns.distplot(durations,rug=True,axlabel='sec',ax=ax)\n",
    "    ttl = f\"\"\"Dataset Clip Duration Distribution, {len(durations)} clips\\n\\\n",
    "        Min = {durations.min().item():.3f}\\\n",
    "        Mean = {durations.mean().item():.3f}\\\n",
    "        Max = {durations.max().item():.3f}\n",
    "    \"\"\"\n",
    "    ax.set_title(ttl);\n",
    "    ax.xaxis.set_ticks(range(0, max_dur+1));"
   ]
  },
  {
   "cell_type": "code",
   "execution_count": null,
   "metadata": {},
   "outputs": [
    {
     "name": "stdout",
     "output_type": "stream",
     "text": [
      "Converted 01_text_norm.ipynb.\n",
      "Converted 02_data.ipynb.\n",
      "Converted index.ipynb.\n"
     ]
    }
   ],
   "source": [
    "#hide\n",
    "from nbdev.export import notebook2script\n",
    "notebook2script()"
   ]
  },
  {
   "cell_type": "code",
   "execution_count": null,
   "metadata": {},
   "outputs": [],
   "source": []
  }
 ],
 "metadata": {
  "kernelspec": {
   "display_name": "Python 3",
   "language": "python",
   "name": "python3"
  }
 },
 "nbformat": 4,
 "nbformat_minor": 4
}
