{
 "cells": [
  {
   "cell_type": "code",
   "execution_count": null,
   "metadata": {},
   "outputs": [],
   "source": [
    "from nbdev import *"
   ]
  },
  {
   "cell_type": "code",
   "execution_count": null,
   "metadata": {},
   "outputs": [
    {
     "name": "stdout",
     "output_type": "stream",
     "text": [
      "Cells will be exported to text2speech.text_transcribe,\n",
      "unless a different module is specified after an export flag: `%nbdev_export special.module`\n"
     ]
    }
   ],
   "source": [
    "%nbdev_default_export text_transcribe"
   ]
  },
  {
   "cell_type": "markdown",
   "metadata": {},
   "source": [
    "# VoskTranscribe\n",
    "> Class for accented word/phase transcription according to the [`VOSK`](https://alphacephei.com/vosk/models.html) library rules.\n",
    "> Supports `list`, `str` thanks to type dispatch implemented in [`fastcore`](https://fastcore.fast.ai/) library."
   ]
  },
  {
   "cell_type": "code",
   "execution_count": null,
   "metadata": {},
   "outputs": [],
   "source": [
    "%nbdev_export\n",
    "from fastcore.all import *"
   ]
  },
  {
   "cell_type": "code",
   "execution_count": null,
   "metadata": {},
   "outputs": [],
   "source": [
    "%nbdev_export\n",
    "class VoskTranscribe():\n",
    "    \"\"\"Transcribe an accented word using rules of `VOSK` library.\n",
    "    \n",
    "       For example:\n",
    "        \n",
    "       абстракциони+стов\n",
    "       абстра+кцию\n",
    "       абстра+кция\n",
    "        \n",
    "       абстракционистов a0 b s t r a0 k c i0 o0 nj i1 s t o0 v\n",
    "       абстракцию a0 b s t r a1 k c i0 j u0\n",
    "       абстракция a0 b s t r a1 k c i0 j a0\n",
    "\n",
    "       The code is adapted from `vosk-model-ru-0.10/extra/scripts/dictionary.py` https://alphacephei.com/vosk/\n",
    "    \"\"\"\n",
    "    \n",
    "    def __init__(self, acc_before=False):\n",
    "        \"\"\"Create a `VoskTranscribe`r.\n",
    "        \n",
    "           Args:\n",
    "            acc_before (bool): Accent marked with `+` before (True) or after (False) a vowel. Default=False.\n",
    "                Example: \"сл+ива\" -- use `acc_before = True`, like in `VOSK`.\n",
    "                         \"сли+ва\" -- use `acc_before = False`, like in `russian_g2p`.\n",
    "        \n",
    "        \"\"\"\n",
    "        self.acc_before = acc_before\n",
    "        self.softletters=set(\"яёюиье\")\n",
    "        self.startsyl=set(\"#ъьаяоёуюэеиы-\")\n",
    "        self.others = set(\"#+-ьъ\")\n",
    "        self.softhard_cons = {\n",
    "            \"б\" : \"b\",\n",
    "            \"в\" : \"v\",\n",
    "            \"г\" : \"g\",\n",
    "            \"Г\" : \"g\",\n",
    "            \"д\" : \"d\",\n",
    "            \"з\" : \"z\",\n",
    "            \"к\" : \"k\",\n",
    "            \"л\" : \"l\",\n",
    "            \"м\" : \"m\",\n",
    "            \"н\" : \"n\",\n",
    "            \"п\" : \"p\",\n",
    "            \"р\" : \"r\",\n",
    "            \"с\" : \"s\",\n",
    "            \"т\" : \"t\",\n",
    "            \"ф\" : \"f\",\n",
    "            \"х\" : \"h\"\n",
    "        }\n",
    "\n",
    "        self.other_cons = {\n",
    "            \"ж\" : \"zh\",\n",
    "            \"ц\" : \"c\",\n",
    "            \"ч\" : \"ch\",\n",
    "            \"ш\" : \"sh\",\n",
    "            \"щ\" : \"sch\",\n",
    "            \"й\" : \"j\"\n",
    "        }\n",
    "\n",
    "        self.vowels = {\n",
    "            \"а\" : \"a\",\n",
    "            \"я\" : \"a\",\n",
    "            \"у\" : \"u\",\n",
    "            \"ю\" : \"u\",\n",
    "            \"о\" : \"o\",\n",
    "            \"ё\" : \"o\",\n",
    "            \"э\" : \"e\",\n",
    "            \"е\" : \"e\",\n",
    "            \"и\" : \"i\",\n",
    "            \"ы\" : \"y\",\n",
    "        }\n",
    "\n",
    "    @typedispatch\n",
    "    def __call__(self, word: str) -> str:\n",
    "        \"\"\"To call class instance as a function.\"\"\"\n",
    "        return self.convert(word)\n",
    "\n",
    "    @typedispatch\n",
    "    def __call__(self, phrase: list) -> list:\n",
    "        \"\"\"To call class instance as a function.\"\"\"\n",
    "        if isinstance(phrase[0],list): phrase = phrase[0]\n",
    "        return [self.convert(word) for word in phrase]\n",
    "         \n",
    "\n",
    "    def __pallatize(self, phones: list) -> list:\n",
    "        \"\"\"Transcribe consonant phones.\n",
    "\n",
    "        Args:\n",
    "            phones (list): tuples of phones marked: 0 -- not stressed, 1 -- stressed.\n",
    "                Example: [('#', 0), ('с', 0), ('л', 0), ('и', 1), ('в', 0), ('а', 0), ('#', 0)]\n",
    "                \n",
    "        Returns:\n",
    "            list of tuples: consonants transcribed.\n",
    "                Example: [('#', 0), ('s', 0), ('lj', 0), ('и', 1), ('v', 0), ('а', 0), ('#', 0)]\n",
    "        \"\"\"    \n",
    "    \n",
    "        for i, (ph, _) in enumerate(phones[:-1]):\n",
    "            if ph in self.softhard_cons:\n",
    "                if phones[i+1][0] in self.softletters:\n",
    "                    phones[i] = (self.softhard_cons[ph] + \"j\", 0)\n",
    "                else:\n",
    "                    phones[i] = (self.softhard_cons[ph], 0)\n",
    "            if ph in self.other_cons:\n",
    "                phones[i] = (self.other_cons[ph], 0)\n",
    "\n",
    "        return phones\n",
    "    \n",
    "    \n",
    "    def __convert_vowels(self, phones: list) -> list:\n",
    "        \"\"\"Transcribe vowel phones.\n",
    "        \n",
    "            Args:\n",
    "                phones (list): tuples of phones marked: 0 -- not stressed, 1 -- stressed.\n",
    "                    Example: [('#', 0), ('s', 0), ('lj', 0), ('и', 1), ('v', 0), ('а', 0), ('#', 0)]\n",
    "\n",
    "            Returns:\n",
    "                list: consonants transcribed. Ex: ['#', 's', 'lj', 'i1', 'v', 'a0', '#']      \n",
    "        \n",
    "        \"\"\"\n",
    "        new_phones = []\n",
    "        prev = \"\"\n",
    "        for (ph, stress) in phones:\n",
    "            if prev in self.startsyl:\n",
    "                if ph in set(\"яюеё\"):\n",
    "                    new_phones.append(\"j\")\n",
    "            if ph in self.vowels:\n",
    "                new_phones.append(self.vowels[ph] + str(stress))\n",
    "            else:\n",
    "                new_phones.append(ph)\n",
    "            prev = ph\n",
    "\n",
    "        return new_phones\n",
    "\n",
    "   \n",
    "    def convert(self, word: str) -> str:\n",
    "        \"\"\"\"\"\"\n",
    "        if word == '<sil>': return word\n",
    "        phones = (\"#\" + word + \"#\")\n",
    "\n",
    "        # Assign stress marks\n",
    "        stress_phones = []\n",
    "        acc_before = False\n",
    "        offset = -1 if self.acc_before else 1\n",
    "\n",
    "        for i,ph in enumerate(phones[:-1]):\n",
    "            if ph == '+': continue\n",
    "            if phones[i+offset] == '+':\n",
    "                stress_phones.append((ph,1))\n",
    "            else:\n",
    "                stress_phones.append((ph,0))\n",
    "        else:\n",
    "            stress_phones.append((phones[-1],0))\n",
    "\n",
    "        phones = self.__convert_vowels(self.__pallatize(stress_phones))\n",
    "        phones = [x for x in phones if x not in self.others]  # Filter\n",
    "        return \" \".join(phones)    "
   ]
  },
  {
   "cell_type": "markdown",
   "metadata": {},
   "source": [
    "## Testing"
   ]
  },
  {
   "cell_type": "code",
   "execution_count": null,
   "metadata": {},
   "outputs": [],
   "source": [
    "#hide\n",
    "from fastcore.test import *\n",
    "from nbdev.showdoc import *"
   ]
  },
  {
   "cell_type": "markdown",
   "metadata": {},
   "source": [
    "#### VOSK-like accents"
   ]
  },
  {
   "cell_type": "code",
   "execution_count": null,
   "metadata": {},
   "outputs": [],
   "source": [
    "vt = VoskTranscribe(acc_before=True)"
   ]
  },
  {
   "cell_type": "markdown",
   "metadata": {},
   "source": [
    "##### Calling with a list of words"
   ]
  },
  {
   "cell_type": "code",
   "execution_count": null,
   "metadata": {},
   "outputs": [
    {
     "data": {
      "text/plain": [
       "['k u0 pj u1 r a0', 'm o0 j a1']"
      ]
     },
     "execution_count": null,
     "metadata": {},
     "output_type": "execute_result"
    }
   ],
   "source": [
    "vt([['куп+юра', 'мо+я']])"
   ]
  },
  {
   "cell_type": "markdown",
   "metadata": {},
   "source": [
    "##### Calling with a string"
   ]
  },
  {
   "cell_type": "code",
   "execution_count": null,
   "metadata": {},
   "outputs": [
    {
     "data": {
      "text/plain": [
       "'k u0 pj u1 r a0'"
      ]
     },
     "execution_count": null,
     "metadata": {},
     "output_type": "execute_result"
    }
   ],
   "source": [
    "vt('куп+юра')"
   ]
  },
  {
   "cell_type": "code",
   "execution_count": null,
   "metadata": {},
   "outputs": [],
   "source": [
    "test_eq(vt('куп+юра'), 'k u0 pj u1 r a0')\n",
    "test_eq(vt('к+онь'), 'k o1 nj')"
   ]
  },
  {
   "cell_type": "markdown",
   "metadata": {},
   "source": [
    "#### Russian_G2P-like accents"
   ]
  },
  {
   "cell_type": "code",
   "execution_count": null,
   "metadata": {},
   "outputs": [],
   "source": [
    "vt = VoskTranscribe(acc_before=False)\n",
    "\n",
    "test_eq(vt('купю+ра'), 'k u0 pj u1 r a0')\n",
    "test_eq(vt('ко+нь'), 'k o1 nj')"
   ]
  },
  {
   "cell_type": "markdown",
   "metadata": {},
   "source": [
    "##### Ignore special tag"
   ]
  },
  {
   "cell_type": "code",
   "execution_count": null,
   "metadata": {},
   "outputs": [],
   "source": [
    "test_eq(vt('<sil>'), '<sil>')"
   ]
  },
  {
   "cell_type": "markdown",
   "metadata": {},
   "source": [
    "## TODO\n",
    "\n",
    "* raise a `Warning` in case no stress."
   ]
  },
  {
   "cell_type": "code",
   "execution_count": null,
   "metadata": {},
   "outputs": [],
   "source": [
    "test_eq(vt('конь'), 'k o0 nj')"
   ]
  },
  {
   "cell_type": "code",
   "execution_count": null,
   "metadata": {},
   "outputs": [
    {
     "name": "stdout",
     "output_type": "stream",
     "text": [
      "Converted 01_text_norm.ipynb.\n",
      "Converted 02_data.ipynb.\n",
      "Converted 03_transcribe.ipynb.\n",
      "Converted index.ipynb.\n"
     ]
    }
   ],
   "source": [
    "#hide\n",
    "from nbdev.export import notebook2script\n",
    "notebook2script()"
   ]
  },
  {
   "cell_type": "code",
   "execution_count": null,
   "metadata": {},
   "outputs": [],
   "source": []
  }
 ],
 "metadata": {
  "kernelspec": {
   "display_name": "Python 3",
   "language": "python",
   "name": "python3"
  }
 },
 "nbformat": 4,
 "nbformat_minor": 4
}
