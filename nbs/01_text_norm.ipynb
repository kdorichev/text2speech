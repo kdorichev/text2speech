{
 "cells": [
  {
   "cell_type": "code",
   "execution_count": null,
   "metadata": {
    "hide_input": true
   },
   "outputs": [],
   "source": [
    "from nbdev import *"
   ]
  },
  {
   "cell_type": "code",
   "execution_count": null,
   "metadata": {
    "tags": []
   },
   "outputs": [],
   "source": [
    "# default_exp text_norm"
   ]
  },
  {
   "cell_type": "markdown",
   "metadata": {},
   "source": [
    "# Text Normalization\n",
    "> Functions used for TTS Dataset Preparation"
   ]
  },
  {
   "cell_type": "code",
   "execution_count": null,
   "metadata": {
    "tags": []
   },
   "outputs": [],
   "source": [
    "#export\n",
    "import re\n",
    "from typing import Tuple\n",
    "from razdel import tokenize"
   ]
  },
  {
   "cell_type": "code",
   "execution_count": null,
   "metadata": {},
   "outputs": [],
   "source": [
    "#hide\n",
    "from fastcore.test import *\n",
    "from nbdev.showdoc import *"
   ]
  },
  {
   "cell_type": "markdown",
   "metadata": {},
   "source": [
    "## Functions for Pipeline"
   ]
  },
  {
   "cell_type": "code",
   "execution_count": null,
   "metadata": {},
   "outputs": [],
   "source": [
    "#export\n",
    "def collapse_whitespace(text: str) -> str:\n",
    "    \"Replace multiple various whitespaces with a single space, strip leading and trailing spaces.\"\n",
    "    \n",
    "    return re.sub(r'[\\s\\ufeff\\u200b\\u2060]+', ' ', text).strip()"
   ]
  },
  {
   "cell_type": "code",
   "execution_count": null,
   "metadata": {},
   "outputs": [],
   "source": [
    "test_eq(collapse_whitespace(\n",
    "    chr(int(\"0xfeff\", 16)) + # zero width no-break space\n",
    "    chr(int(\"0x200b\", 16)) + # zero width space\n",
    "    chr(int(\"0x202f\", 16)) + # narrow no-break space\n",
    "    chr(int(\"0x2060\", 16)) + # word joiner\n",
    "    chr(int(\"0x3000\", 16)) + # ideographic space\n",
    "    chr(int(\"0xa0\"  , 16)) + # no-break space\n",
    "    \"\\t\\n 1 2   3     4     5       \\t\\r\\n\"),\n",
    "    \"1 2 3 4 5\")"
   ]
  },
  {
   "cell_type": "code",
   "execution_count": null,
   "metadata": {},
   "outputs": [],
   "source": [
    "#export\n",
    "def lowercase(text: str) -> str:\n",
    "    \"Convert `text` to lower case.\"\n",
    "    \n",
    "    return text.lower()"
   ]
  },
  {
   "cell_type": "code",
   "execution_count": null,
   "metadata": {},
   "outputs": [],
   "source": [
    "test_eq(lowercase('ПрИвеТ, ЧуВАК!'), \n",
    "                  'привет, чувак!')"
   ]
  },
  {
   "cell_type": "code",
   "execution_count": null,
   "metadata": {},
   "outputs": [],
   "source": [
    "#export\n",
    "def check_no_numbers(text: str) -> list:\n",
    "    \"Return a list of digits, or empty list, if not found.\"\n",
    "    \n",
    "    return re.findall(r'(\\d+)', text)"
   ]
  },
  {
   "cell_type": "code",
   "execution_count": null,
   "metadata": {},
   "outputs": [],
   "source": [
    "test_eq(check_no_numbers('Цифры есть 1 12 13.4'), ['1', '12', '13', '4'])\n",
    "test_eq(check_no_numbers('Цифр нет'), [])"
   ]
  },
  {
   "cell_type": "code",
   "execution_count": null,
   "metadata": {},
   "outputs": [],
   "source": [
    "#export\n",
    "_specials = [(re.compile(f'{x[0]}'), x[1]) for x in [\n",
    "    (r'\\(?\\d\\d[:.]\\d\\d\\)?', ''),  # timestamps\n",
    "    (r'!\\.{1,}', '!'), # !. -> !\n",
    "    (r'\\?\\.{1,}', '?'),# ?. -> ?\n",
    "    (r'\\/', ''),\n",
    "    (r'[\\*\\_]', ''),\n",
    "    (r'[\\(\\)]', '')\n",
    "    ]]"
   ]
  },
  {
   "cell_type": "code",
   "execution_count": null,
   "metadata": {},
   "outputs": [],
   "source": [
    "#export\n",
    "def remove_specials(text: str, purge_digits: bool=None) -> str:\n",
    "    \"Replace predefined in `_specials` sequence of characters\"\n",
    "    \n",
    "    for regex, replacement in _specials:\n",
    "        text = re.sub(regex, replacement, text)\n",
    "    if purge_digits:\n",
    "        text = re.sub(r'\\d', '', text)\n",
    "    return text"
   ]
  },
  {
   "cell_type": "code",
   "execution_count": null,
   "metadata": {},
   "outputs": [],
   "source": [
    "#export\n",
    "def purge_dots(text, purgedots=False):\n",
    "    \"If `purgedots`, `...`|`…` will be purged. Else replaced with `.`\"\n",
    "    text = re.sub(r'\\s(…)', ' ', text)\n",
    "    replacement = '' if purgedots else '.'\n",
    "    text = re.sub(r'…', replacement, text)\n",
    "    text = re.sub(r'\\.{3}', replacement, text)\n",
    "    text = re.sub(r'\\.{2}', '', text)   # pause .. removed\n",
    "    return text"
   ]
  },
  {
   "cell_type": "code",
   "execution_count": null,
   "metadata": {},
   "outputs": [],
   "source": [
    "test_eq(purge_dots(\"Word...\"), 'Word.')\n",
    "test_eq(purge_dots(\"Word…\",), 'Word.')\n",
    "\n",
    "test_eq(purge_dots(\"Word...\", purgedots=True), 'Word')\n",
    "test_eq(purge_dots(\"Word…\",   purgedots=True), 'Word')\n",
    "\n",
    "test_eq(purge_dots(\" …Word\",), ' Word')\n",
    "\n",
    "test_eq(purge_dots(\"Word..\",), 'Word')\n",
    "\n",
    "test_eq(purge_dots('Многоточие... Многоточие… … …Многоточие'),\n",
    "                        'Многоточие. Многоточие.  Многоточие')"
   ]
  },
  {
   "cell_type": "code",
   "execution_count": null,
   "metadata": {},
   "outputs": [],
   "source": [
    "test_eq(remove_specials('Скобки у аббревиатур (вайфай) удаляем.'),'Скобки у аббревиатур вайфай удаляем.')"
   ]
  },
  {
   "cell_type": "code",
   "execution_count": null,
   "metadata": {},
   "outputs": [],
   "source": [
    "test_eq(remove_specials('Метки времени 01:12 или 01.01, (01:12) или (01.01) удаляем.'),\n",
    "                        'Метки времени  или ,  или  удаляем.')\n",
    "test_eq(remove_specials('Ой!. Ага?. / Стоп.'), 'Ой! Ага?  Стоп.')\n",
    "test_eq(remove_specials('*США* _Френсис_'), 'США Френсис')"
   ]
  },
  {
   "cell_type": "code",
   "execution_count": null,
   "metadata": {},
   "outputs": [],
   "source": [
    "#export\n",
    "_abbreviations = [(re.compile(f'\\\\b{x[0]}', re.IGNORECASE), x[1]) for x in [\n",
    "  (r'т\\.е\\.', 'то есть'),\n",
    "  (r'т\\.к\\.', 'так как'),\n",
    "  (r'и т\\.д\\.', 'и так далее.'),\n",
    "  (r'и т\\.п\\.', 'и тому подобное.')\n",
    "]]"
   ]
  },
  {
   "cell_type": "code",
   "execution_count": null,
   "metadata": {},
   "outputs": [],
   "source": [
    "#export\n",
    "def expand_abbreviations(text: str) -> str:\n",
    "    \"`expand_abbreviations()` defined in `_abbreviations`\"\n",
    "    \n",
    "    for regex, replacement in _abbreviations:\n",
    "        text = re.sub(regex, replacement, text)\n",
    "    return text"
   ]
  },
  {
   "cell_type": "code",
   "execution_count": null,
   "metadata": {},
   "outputs": [],
   "source": [
    "test_eq(\n",
    "    expand_abbreviations('Привет Джон, т.е. Иван. Т.к. русский. И т.д. И т.п.'),\n",
    "                         'Привет Джон, то есть Иван. так как русский. и так далее. и тому подобное.') "
   ]
  },
  {
   "cell_type": "code",
   "execution_count": null,
   "metadata": {},
   "outputs": [],
   "source": [
    "#export\n",
    "def unify_dash_hyphen(text: str) -> str:\n",
    "    \"Unify dash and hyphen symbols -- replace with emdash or hyphen, separate with space.\"\n",
    "    \n",
    "    text = re.sub('[\\u2212\\u2012\\u2014]', '\\u2013', text) # replace minus sign, figure dash, em dash with en dash\n",
    "    text = re.sub('[\\u2010\\u2011]', '\\u002d', text)  # hyphen, non-breaking hyphen\n",
    "    text = re.sub('\\s*?(\\u2013)\\s*?',' \\g<1> ',text)\n",
    "    return text"
   ]
  },
  {
   "cell_type": "code",
   "execution_count": null,
   "metadata": {},
   "outputs": [],
   "source": [
    "test_eq(unify_dash_hyphen(\n",
    "    chr(int(\"2212\",16))+ # minus sign\n",
    "    chr(int(\"2012\",16))+ # figure dash\n",
    "    chr(int(\"2010\",16))+ # hyphen\n",
    "    chr(int(\"2011\",16))),# non-breaking hyphen\n",
    "    (\" \"+chr(int(\"2013\",16))+\" \")*2+chr(int(\"2d\",16))*2)"
   ]
  },
  {
   "cell_type": "code",
   "execution_count": null,
   "metadata": {},
   "outputs": [],
   "source": [
    "test_eq(unify_dash_hyphen('Я '+chr(int(\"2013\",16))+ 'Джейми Кейлер'),'Я – Джейми Кейлер')\n",
    "test_eq(unify_dash_hyphen('Я' +chr(int(\"2013\",16))+ 'Джейми Кейлер'),'Я – Джейми Кейлер')\n",
    "test_eq(collapse_whitespace(unify_dash_hyphen('Я' +chr(int(\"2013\",16))+' Джейми Кейлер')),'Я – Джейми Кейлер')"
   ]
  },
  {
   "cell_type": "code",
   "execution_count": null,
   "metadata": {},
   "outputs": [],
   "source": [
    "#export\n",
    "def rm_quot_marks(text: str) -> str:\n",
    "    \"\"\"Remove quotation marks from `text`.\"\"\"\n",
    "    # \\u0022\\u0027\\u00ab\\u00bb\\u2018\\u2019\\u201a\\u201b\\u201c\\u201d\\u201e\\u201f\\u2039\\u203a\\u276e\\u276f\\u275b\\u275c\\u275d\\u275e\\u275f\\u2760\\u2e42\\u301d\\u301e\\u301f\n",
    "    return re.sub(r'[\"\\'«»‘’‚‛“”„‟‹›❮❯❛❜❝❞❟❠]','',text)   "
   ]
  },
  {
   "cell_type": "code",
   "execution_count": null,
   "metadata": {},
   "outputs": [],
   "source": [
    "test_eq(rm_quot_marks('\"\\'«»‘’‚‛“”„‟‹›❮❯❛❜❝❞❟❠'),'')"
   ]
  },
  {
   "cell_type": "markdown",
   "metadata": {},
   "source": [
    "### Test Text Strings Equality"
   ]
  },
  {
   "cell_type": "code",
   "execution_count": null,
   "metadata": {},
   "outputs": [],
   "source": [
    "#export\n",
    "def texts_equal(text1: str, text2: str, ignore_e: bool = True, verbose = False)\\\n",
    "        -> Tuple[bool, str, str]:\n",
    "    \"\"\"Check if `text1` equals `text2`. Optionally ignore diff between `е` and `ё`.\"\"\"\n",
    "\n",
    "    is_equal = 1\n",
    "    text1, text2 = text1.replace('-',' ').strip(), text2.replace('-',' ').strip()\n",
    "    if len(text1) != len(text2):\n",
    "        if verbose: print(\"Not equal length\")\n",
    "        return False, text1, text2\n",
    "\n",
    "    words1 = [_.text for _ in list(tokenize(text1))]\n",
    "    words2 = [_.text for _ in list(tokenize(text2))]\n",
    "    wc1, wc2 = len(words1), len(words2)\n",
    "    if wc1 != wc2:\n",
    "        if verbose: print(f\"Not equal words count: {wc1} != {wc2}\")\n",
    "        return False, text1, text2   \n",
    "    \n",
    "    text1, text2 = \"\", \"\"\n",
    "    # Per word comparison, assuming wc1 == wc2\n",
    "    for i in range(len(words1)):\n",
    "        letters1 = [char for char in words1[i]]\n",
    "        letters2 = [char for char in words2[i]]        \n",
    "        if words1[i] != words2[i]:\n",
    "            is_equal -= 1\n",
    "            for j in range(min(len(letters1), len(letters2))):\n",
    "                if letters1[j] == letters2[j]:\n",
    "                    continue\n",
    "                else:\n",
    "                    if ignore_e and letters1[j] in ['е', 'ё'] and letters2[j] in ['е', 'ё']:\n",
    "                        if verbose: print('е != ё -- норм')\n",
    "                        is_equal += 1\n",
    "                    elif letters1[j] in ['-', ' '] and letters2[j] in ['-', ' ']:\n",
    "                        is_equal += 1\n",
    "                    else:\n",
    "                        letters1[j] = letters1[j].upper()\n",
    "                        letters2[j] = letters2[j].upper()\n",
    "                        is_equal -= 1\n",
    "        words1[i], words2[i] = ''.join(letters1), ''.join(letters2)\n",
    "        text1 = text1 + \" \" + words1[i]\n",
    "        text2 = text2 + \" \" +  words2[i]\n",
    "        \n",
    "    return is_equal == 1, text1[1:], text2[1:]"
   ]
  },
  {
   "cell_type": "code",
   "execution_count": null,
   "metadata": {},
   "outputs": [
    {
     "data": {
      "text/plain": [
       "(False, 'что ЛИ А', 'что ТО И')"
      ]
     },
     "execution_count": null,
     "metadata": {},
     "output_type": "execute_result"
    }
   ],
   "source": [
    "texts_equal(\"что-ли а\", \"что-то и\", verbose=False)"
   ]
  },
  {
   "cell_type": "code",
   "execution_count": null,
   "metadata": {},
   "outputs": [
    {
     "data": {
      "text/plain": [
       "(False, 'что ЛИ А', 'что ТО И')"
      ]
     },
     "execution_count": null,
     "metadata": {},
     "output_type": "execute_result"
    }
   ],
   "source": [
    "texts_equal(\"что-ли а\", \"что-то и\", verbose=True)"
   ]
  },
  {
   "cell_type": "code",
   "execution_count": null,
   "metadata": {},
   "outputs": [],
   "source": [
    "test_eq(texts_equal(\"1234\", \"12345\", verbose = False), (False, \"1234\", \"12345\"))\n",
    "#test_stdout(lambda: test_eq(texts_equal(\"1234\", \"12345\", verbose = True), False), \"Not equal length\")\n",
    "\n",
    "test_eq(texts_equal(\"все\", \"всё\", ignore_e = True, verbose = False), (True, \"все\", \"всё\"))\n",
    "test_eq(texts_equal(\"все\", \"всё\", ignore_e = False, verbose = False), (False, \"всЕ\", \"всЁ\"))\n",
    "#test_stdout(lambda: texts_equal(\"все\", \"всё\", ignore_e = False, verbose = True), \"всЕ != всЁ\")\n",
    "\n",
    "test_eq(texts_equal(\"слово ещё одно\", \"слово ещё одно\"), (True,\"слово ещё одно\", \"слово ещё одно\"))"
   ]
  },
  {
   "cell_type": "code",
   "execution_count": null,
   "metadata": {},
   "outputs": [],
   "source": [
    "#hide\n",
    "# test_stdout(lambda: texts_equal(\"слово ещё одно\", \"слово ещё одна\"), \n",
    "#             \"однО != однА\")\n",
    "\n",
    "# test_stdout(lambda: texts_equal(\"слово ещё одно\", \"слово ещё одно лишнее\"), \n",
    "#             \"Not equal length\\nNot equal words count: 3 != 4\")"
   ]
  },
  {
   "cell_type": "markdown",
   "metadata": {},
   "source": [
    "## Pipelines"
   ]
  },
  {
   "cell_type": "code",
   "execution_count": null,
   "metadata": {},
   "outputs": [],
   "source": [
    "#export\n",
    "def basic_cleaner(text: str) -> str:\n",
    "    \"Basic pipeline: lowercase and collapse whitespaces.\"\n",
    "    text = lowercase(text)\n",
    "    text = collapse_whitespace(text)\n",
    "    return text"
   ]
  },
  {
   "cell_type": "code",
   "execution_count": null,
   "metadata": {},
   "outputs": [],
   "source": [
    "test_eq(basic_cleaner(\n",
    "    'Привет   Джон, т.е. Иван, т.к. русский. И т.д.   и т.п.'),\n",
    "    'привет джон, т.е. иван, т.к. русский. и т.д. и т.п.')"
   ]
  },
  {
   "cell_type": "code",
   "execution_count": null,
   "metadata": {},
   "outputs": [],
   "source": [
    "#export\n",
    "def russian_cleaner(text, purge_digits=True, _purge_dots=False):\n",
    "    \"Pipeline for cleaning Russian text.\"\n",
    "\n",
    "    text = expand_abbreviations(text)\n",
    "    text = remove_specials(text, purge_digits=purge_digits)\n",
    "    text = purge_dots(text, purgedots=_purge_dots)\n",
    "    text = unify_dash_hyphen(text)\n",
    "    text = rm_quot_marks(text)\n",
    "    text = collapse_whitespace(text)\n",
    "    return text"
   ]
  },
  {
   "cell_type": "code",
   "execution_count": null,
   "metadata": {},
   "outputs": [],
   "source": [
    "#export\n",
    "def russian_cleaner2(text, purge_digits=True, _purge_dots=False):\n",
    "    \"Pipeline for cleaning and lowercase Russian text.\"\n",
    "\n",
    "    return russian_cleaner(lowercase(text), purge_digits, _purge_dots)"
   ]
  },
  {
   "cell_type": "code",
   "execution_count": null,
   "metadata": {},
   "outputs": [],
   "source": [
    "test_eq(russian_cleaner(\n",
    "        'Привет «Джон», т.е.     Иван, т.к. русский... И т.д. и т.п. Ой!. Ага?. / \"Стоп\"..'),\n",
    "        'Привет Джон, то есть Иван, так как русский. и так далее. и тому подобное. Ой! Ага? Стоп')"
   ]
  },
  {
   "cell_type": "markdown",
   "metadata": {},
   "source": [
    "## Sentences Tokenizer"
   ]
  },
  {
   "cell_type": "code",
   "execution_count": null,
   "metadata": {},
   "outputs": [],
   "source": [
    "from razdel import sentenize"
   ]
  },
  {
   "cell_type": "code",
   "execution_count": null,
   "metadata": {},
   "outputs": [],
   "source": [
    "fname = '/home/condor/git/cyrillica/b-ish.txt'\n",
    "with open(fname) as f:\n",
    "    text = f.read()"
   ]
  },
  {
   "cell_type": "code",
   "execution_count": null,
   "metadata": {},
   "outputs": [
    {
     "data": {
      "text/plain": [
       "'\\ufeff\\n\\n\\n\\n\\n\\n\\n\\nВсе думают, что знают историю Америки, но когда заходит речь о морских приключениях, мы пересказываем сказки. Взять хотя бы морских чудовищ – пиратов. Вы знали, что они сражались совсем не так, как нам показывают в кино? И что Чёрная Борода боялся, как бы враги не раскрыли его секрет? И что за фокусы с исчезновением показывает Бермудский треугольник? (00:25) Инопланетяне не угоняли звено «девятнадцать», виновник жил у нас дома. Суши вёсла, парень, я – Джейми Кэйлер. Пора порубить мифы на мелкие кусочки… и выкопать сундук… с правдой. \\n\\n\\nАМЕРИКА:  ФАКТЫ  И  ДОМЫСЛЫ\\n\\n\\nЗолотой век пиратства пришёлся на период с тысяча шестьсот  девяностого по тысяча семьсот тридцатый год. Но большинство пиратов быстро отходили от дел. Эдвард Тич.. знаменитый Чёрная Борода.. наводил страх на моря меньше двух лет. Как и многие пираты, он получил раннюю пенсию.. вместе с ударом абордажной сабли. Короткая карьера, зато наследие на века. Но всё, что мы знаем, омыто океаном фантазии. Аж поджилки трясутся.\\n\\n\\nРеальность пиратства далеко не романтична.\\n\\n\\nКевин Макдоналд, Университет Лойолы\\n\\n\\nДалеко не Голливуд.\\n\\n\\nМиф складывался постепенно.\\n\\n\\nРоберт Ричи, писатель\\n\\n\\nВот что мы уже знаем про пиратов и пиратство, детки. / Волны Карибского моря и Атлантики не знают закона из-за орды варваров в маскарадных костюмах. \\n\\n\\nПовязка на одном глазу, деревянная нога, попугай на плече, вооружены до зубов.\\n\\n\\nПод командованием капитанов-самодуров корабли под флагом с черепом и костями.. обрушивают шквал ядер на торговые суда, вырезают команды и заставляют оставшихся в живых пройти по доске. / 02:30 Захватив золото, серебро, драгоценности и дублоны, пираты прятали добычу в тайном месте и перепрятывали с помощью карты-головоломки. Верно?\\n\\n\\nДОМЫСЕЛ \\n\\n\\nВ этой лихой истории спрятан целый сундук заблуждений, начиная с образа безбашенного капитана, которому все подчиняются. На самом деле власть опасного Чёрного Бороды была жёстко ограничена демократическими правилами пиратов.\\n\\n\\nОни голосовали по каждому поводу.\\n\\n\\nКристин Маркель Лампе, писатель\\n\\n\\nОни могли изгнать капитана. Но только не во время битвы.\\n\\n\\nПалубная демократия ничуть не похожа на диктатуру и унижения в европейском флоте. Враги пиратов, капитаны военных кораблей – вот настоящие тираны морей. \\n\\n\\nОни считали матросов.. тупицами и.. отбросами…\\n\\n\\nГейл Селинджер, писатель\\n\\n\\nДержать их в узде можно только с помощью лишений.. и наказаний. А пираты, почти все, были.. матросами, и когда они уходили к пиратам, их экипажи не желали давать одному человеку столько власти. \\n\\n\\nТолько во время боя власть капитана была абсолютной. И он может наводить ужас сколько пожелает. Перед каждым боем Чёрная борода… украшал волосы… медленно тлеющими запалами: казалось, что у него голова горит. \\n\\n\\nПредставьте: стоите вы на палубе, и на вас надвигается огромный мужик с бородой, и вокруг его головы вьётся дым. ..Какой вы ни крутой, а всё равно закричите «помоги господи».\\n\\n\\nА как же другие пиратские примочки? Крюки, повязки на глаза, костыли?\\n\\n\\nА вот это всё правда.\\n\\n\\nПираты – любимые клиенты изготовителей протезов, потому что в море легко получить увечье. Это боевые раны и травмы из-за плохо закреплённого груза. / 04:51 А ещё могут упасть снасти. / Но, несмотря на нехватку частей тела, пираты всё равно набивали сундуки дублонами. Верно?\\n\\n\\nДОМЫСЕЛ \\n\\n\\nБогатая добыча – большая редкость. Обычно пиратам доставались… карты, оружие, паруса, ром, мыло, свечи или одежда. \\n\\n\\nОни не накопили… богатств. Тем более сокровищ. Они ухитрялись жить на огрызках… выживать.\\n\\n\\nПиратам нужны люди. Поэтому в любой добыче, которую брали на кораблях, важны мужчины. Они выполняли различные задачи на корабле.\\n\\n\\nА как же знаменитые набеги, когда в их крюки попадало бесценное сокровище? Его закапывали и составляли карту? \\n\\n\\nДОМЫСЕЛ\\n\\n\\nЧто за вздор, парень. Пираты… ничего не запасали на чёрный день. \\n\\n\\nПираты спускали добычу быстро, как только заходили в порт: пьянство, азартные игры, женщины. Деньги тратились при первой возможности.\\n\\n\\nПираты не держались за свои сокровища, потому что не рассчитывали прожить долго. \\n\\n\\nТогда почему мы принимаем фантазии о закопанных сокровищах и картах за факты? Скажем спасибо шотландскому писателю Роберту Льюису Стивенсону и залихватским приключениям, которые он описал в тысяча восемьсот восемьдесят третьем году. \\n\\n\\nПочти всё, что мы знаем и представляем себе о пиратах, взято из «Острова сокровищ» Стивенсона. Он придумал, что пираты закапывали сокровища.\\n\\n\\nА ещё он придумал тайные карты, на которых нужное место отмечено крестом.\\n\\n\\nОн нарисовал карту ещё до того, как написал роман, так что вся книжка была написала вокруг маленького крестика на карте. \\n\\n\\nОн же придумал «пятнадцать человек на сундук мертвеца – йо-хо-хо и бутылка рома».\\n\\n\\n\\n1\\n\\n\\n'"
      ]
     },
     "execution_count": null,
     "metadata": {},
     "output_type": "execute_result"
    }
   ],
   "source": [
    "text"
   ]
  },
  {
   "cell_type": "code",
   "execution_count": null,
   "metadata": {},
   "outputs": [
    {
     "data": {
      "text/plain": [
       "'Все думают, что знают историю Америки, но когда заходит речь о морских приключениях, мы пересказываем сказки. Взять хотя бы морских чудовищ – пиратов. Вы знали, что они сражались совсем не так, как нам показывают в кино? И что Чёрная Борода боялся, как бы враги не раскрыли его секрет? И что за фокусы с исчезновением показывает Бермудский треугольник? Инопланетяне не угоняли звено девятнадцать, виновник жил у нас дома. Суши вёсла, парень, я – Джейми Кэйлер. Пора порубить мифы на мелкие кусочки. и выкопать сундук. с правдой. АМЕРИКА: ФАКТЫ И ДОМЫСЛЫ Золотой век пиратства пришёлся на период с тысяча шестьсот девяностого по тысяча семьсот тридцатый год. Но большинство пиратов быстро отходили от дел. Эдвард Тич знаменитый Чёрная Борода наводил страх на моря меньше двух лет. Как и многие пираты, он получил раннюю пенсию вместе с ударом абордажной сабли. Короткая карьера, зато наследие на века. Но всё, что мы знаем, омыто океаном фантазии. Аж поджилки трясутся. Реальность пиратства далеко не романтична. Кевин Макдоналд, Университет Лойолы Далеко не Голливуд. Миф складывался постепенно. Роберт Ричи, писатель Вот что мы уже знаем про пиратов и пиратство, детки. Волны Карибского моря и Атлантики не знают закона из-за орды варваров в маскарадных костюмах. Повязка на одном глазу, деревянная нога, попугай на плече, вооружены до зубов. Под командованием капитанов-самодуров корабли под флагом с черепом и костями обрушивают шквал ядер на торговые суда, вырезают команды и заставляют оставшихся в живых пройти по доске. Захватив золото, серебро, драгоценности и дублоны, пираты прятали добычу в тайном месте и перепрятывали с помощью карты-головоломки. Верно? ДОМЫСЕЛ В этой лихой истории спрятан целый сундук заблуждений, начиная с образа безбашенного капитана, которому все подчиняются. На самом деле власть опасного Чёрного Бороды была жёстко ограничена демократическими правилами пиратов. Они голосовали по каждому поводу. Кристин Маркель Лампе, писатель Они могли изгнать капитана. Но только не во время битвы. Палубная демократия ничуть не похожа на диктатуру и унижения в европейском флоте. Враги пиратов, капитаны военных кораблей – вот настоящие тираны морей. Они считали матросов тупицами и отбросами. Гейл Селинджер, писатель Держать их в узде можно только с помощью лишений и наказаний. А пираты, почти все, были матросами, и когда они уходили к пиратам, их экипажи не желали давать одному человеку столько власти. Только во время боя власть капитана была абсолютной. И он может наводить ужас сколько пожелает. Перед каждым боем Чёрная борода. украшал волосы. медленно тлеющими запалами: казалось, что у него голова горит. Представьте: стоите вы на палубе, и на вас надвигается огромный мужик с бородой, и вокруг его головы вьётся дым. Какой вы ни крутой, а всё равно закричите помоги господи. А как же другие пиратские примочки? Крюки, повязки на глаза, костыли? А вот это всё правда. Пираты – любимые клиенты изготовителей протезов, потому что в море легко получить увечье. Это боевые раны и травмы из-за плохо закреплённого груза. А ещё могут упасть снасти. Но, несмотря на нехватку частей тела, пираты всё равно набивали сундуки дублонами. Верно? ДОМЫСЕЛ Богатая добыча – большая редкость. Обычно пиратам доставались. карты, оружие, паруса, ром, мыло, свечи или одежда. Они не накопили. богатств. Тем более сокровищ. Они ухитрялись жить на огрызках. выживать. Пиратам нужны люди. Поэтому в любой добыче, которую брали на кораблях, важны мужчины. Они выполняли различные задачи на корабле. А как же знаменитые набеги, когда в их крюки попадало бесценное сокровище? Его закапывали и составляли карту? ДОМЫСЕЛ Что за вздор, парень. Пираты. ничего не запасали на чёрный день. Пираты спускали добычу быстро, как только заходили в порт: пьянство, азартные игры, женщины. Деньги тратились при первой возможности. Пираты не держались за свои сокровища, потому что не рассчитывали прожить долго. Тогда почему мы принимаем фантазии о закопанных сокровищах и картах за факты? Скажем спасибо шотландскому писателю Роберту Льюису Стивенсону и залихватским приключениям, которые он описал в тысяча восемьсот восемьдесят третьем году. Почти всё, что мы знаем и представляем себе о пиратах, взято из Острова сокровищ Стивенсона. Он придумал, что пираты закапывали сокровища. А ещё он придумал тайные карты, на которых нужное место отмечено крестом. Он нарисовал карту ещё до того, как написал роман, так что вся книжка была написала вокруг маленького крестика на карте. Он же придумал пятнадцать человек на сундук мертвеца – йо-хо-хо и бутылка рома.'"
      ]
     },
     "execution_count": null,
     "metadata": {},
     "output_type": "execute_result"
    }
   ],
   "source": [
    "text = russian_cleaner(text)\n",
    "text"
   ]
  },
  {
   "cell_type": "code",
   "execution_count": null,
   "metadata": {
    "tags": []
   },
   "outputs": [
    {
     "name": "stdout",
     "output_type": "stream",
     "text": [
      "Все думают, что знают историю Америки, но когда заходит речь о морских приключениях, мы пересказываем сказки.\n",
      "Взять хотя бы морских чудовищ – пиратов.\n",
      "Вы знали, что они сражались совсем не так, как нам показывают в кино?\n",
      "И что Чёрная Борода боялся, как бы враги не раскрыли его секрет?\n",
      "И что за фокусы с исчезновением показывает Бермудский треугольник?\n",
      "Инопланетяне не угоняли звено девятнадцать, виновник жил у нас дома.\n",
      "Суши вёсла, парень, я – Джейми Кэйлер.\n",
      "Пора порубить мифы на мелкие кусочки. и выкопать сундук. с правдой.\n",
      "АМЕРИКА: ФАКТЫ И ДОМЫСЛЫ Золотой век пиратства пришёлся на период с тысяча шестьсот девяностого по тысяча семьсот тридцатый год.\n",
      "Но большинство пиратов быстро отходили от дел.\n",
      "Эдвард Тич знаменитый Чёрная Борода наводил страх на моря меньше двух лет.\n",
      "Как и многие пираты, он получил раннюю пенсию вместе с ударом абордажной сабли.\n",
      "Короткая карьера, зато наследие на века.\n",
      "Но всё, что мы знаем, омыто океаном фантазии.\n",
      "Аж поджилки трясутся.\n",
      "Реальность пиратства далеко не романтична.\n",
      "Кевин Макдоналд, Университет Лойолы Далеко не Голливуд.\n",
      "Миф складывался постепенно.\n",
      "Роберт Ричи, писатель Вот что мы уже знаем про пиратов и пиратство, детки.\n",
      "Волны Карибского моря и Атлантики не знают закона из-за орды варваров в маскарадных костюмах.\n",
      "Повязка на одном глазу, деревянная нога, попугай на плече, вооружены до зубов.\n",
      "Под командованием капитанов-самодуров корабли под флагом с черепом и костями обрушивают шквал ядер на торговые суда, вырезают команды и заставляют оставшихся в живых пройти по доске.\n",
      "Захватив золото, серебро, драгоценности и дублоны, пираты прятали добычу в тайном месте и перепрятывали с помощью карты-головоломки.\n",
      "Верно?\n",
      "ДОМЫСЕЛ В этой лихой истории спрятан целый сундук заблуждений, начиная с образа безбашенного капитана, которому все подчиняются.\n",
      "На самом деле власть опасного Чёрного Бороды была жёстко ограничена демократическими правилами пиратов.\n",
      "Они голосовали по каждому поводу.\n",
      "Кристин Маркель Лампе, писатель Они могли изгнать капитана.\n",
      "Но только не во время битвы.\n",
      "Палубная демократия ничуть не похожа на диктатуру и унижения в европейском флоте.\n",
      "Враги пиратов, капитаны военных кораблей – вот настоящие тираны морей.\n",
      "Они считали матросов тупицами и отбросами.\n",
      "Гейл Селинджер, писатель Держать их в узде можно только с помощью лишений и наказаний.\n",
      "А пираты, почти все, были матросами, и когда они уходили к пиратам, их экипажи не желали давать одному человеку столько власти.\n",
      "Только во время боя власть капитана была абсолютной.\n",
      "И он может наводить ужас сколько пожелает.\n",
      "Перед каждым боем Чёрная борода. украшал волосы. медленно тлеющими запалами: казалось, что у него голова горит.\n",
      "Представьте: стоите вы на палубе, и на вас надвигается огромный мужик с бородой, и вокруг его головы вьётся дым.\n",
      "Какой вы ни крутой, а всё равно закричите помоги господи.\n",
      "А как же другие пиратские примочки?\n",
      "Крюки, повязки на глаза, костыли?\n",
      "А вот это всё правда.\n",
      "Пираты – любимые клиенты изготовителей протезов, потому что в море легко получить увечье.\n",
      "Это боевые раны и травмы из-за плохо закреплённого груза.\n",
      "А ещё могут упасть снасти.\n",
      "Но, несмотря на нехватку частей тела, пираты всё равно набивали сундуки дублонами.\n",
      "Верно?\n",
      "ДОМЫСЕЛ Богатая добыча – большая редкость.\n",
      "Обычно пиратам доставались. карты, оружие, паруса, ром, мыло, свечи или одежда.\n",
      "Они не накопили. богатств.\n",
      "Тем более сокровищ.\n",
      "Они ухитрялись жить на огрызках. выживать.\n",
      "Пиратам нужны люди.\n",
      "Поэтому в любой добыче, которую брали на кораблях, важны мужчины.\n",
      "Они выполняли различные задачи на корабле.\n",
      "А как же знаменитые набеги, когда в их крюки попадало бесценное сокровище?\n",
      "Его закапывали и составляли карту?\n",
      "ДОМЫСЕЛ Что за вздор, парень.\n",
      "Пираты. ничего не запасали на чёрный день.\n",
      "Пираты спускали добычу быстро, как только заходили в порт: пьянство, азартные игры, женщины.\n",
      "Деньги тратились при первой возможности.\n",
      "Пираты не держались за свои сокровища, потому что не рассчитывали прожить долго.\n",
      "Тогда почему мы принимаем фантазии о закопанных сокровищах и картах за факты?\n",
      "Скажем спасибо шотландскому писателю Роберту Льюису Стивенсону и залихватским приключениям, которые он описал в тысяча восемьсот восемьдесят третьем году.\n",
      "Почти всё, что мы знаем и представляем себе о пиратах, взято из Острова сокровищ Стивенсона.\n",
      "Он придумал, что пираты закапывали сокровища.\n",
      "А ещё он придумал тайные карты, на которых нужное место отмечено крестом.\n",
      "Он нарисовал карту ещё до того, как написал роман, так что вся книжка была написала вокруг маленького крестика на карте.\n",
      "Он же придумал пятнадцать человек на сундук мертвеца – йо-хо-хо и бутылка рома.\n"
     ]
    }
   ],
   "source": [
    "for s in sentenize(russian_cleaner(text)):\n",
    "    print(s.text)"
   ]
  },
  {
   "cell_type": "markdown",
   "metadata": {},
   "source": [
    "### Set of characters in the origial text"
   ]
  },
  {
   "cell_type": "code",
   "execution_count": null,
   "metadata": {
    "tags": []
   },
   "outputs": [
    {
     "name": "stdout",
     "output_type": "stream",
     "text": [
      "Char\tDec\tHex\tPrintable?\n",
      " \t32\t0x20\tTrue\n",
      ",\t44\t0x2c\tTrue\n",
      "-\t45\t0x2d\tTrue\n",
      ".\t46\t0x2e\tTrue\n",
      ":\t58\t0x3a\tTrue\n",
      "?\t63\t0x3f\tTrue\n",
      "А\t1040\t0x410\tTrue\n",
      "Б\t1041\t0x411\tTrue\n",
      "В\t1042\t0x412\tTrue\n",
      "Г\t1043\t0x413\tTrue\n",
      "Д\t1044\t0x414\tTrue\n",
      "Е\t1045\t0x415\tTrue\n",
      "З\t1047\t0x417\tTrue\n",
      "И\t1048\t0x418\tTrue\n",
      "К\t1050\t0x41a\tTrue\n",
      "Л\t1051\t0x41b\tTrue\n",
      "М\t1052\t0x41c\tTrue\n",
      "Н\t1053\t0x41d\tTrue\n",
      "О\t1054\t0x41e\tTrue\n",
      "П\t1055\t0x41f\tTrue\n",
      "Р\t1056\t0x420\tTrue\n",
      "С\t1057\t0x421\tTrue\n",
      "Т\t1058\t0x422\tTrue\n",
      "У\t1059\t0x423\tTrue\n",
      "Ф\t1060\t0x424\tTrue\n",
      "Ч\t1063\t0x427\tTrue\n",
      "Ы\t1067\t0x42b\tTrue\n",
      "Э\t1069\t0x42d\tTrue\n",
      "а\t1072\t0x430\tTrue\n",
      "б\t1073\t0x431\tTrue\n",
      "в\t1074\t0x432\tTrue\n",
      "г\t1075\t0x433\tTrue\n",
      "д\t1076\t0x434\tTrue\n",
      "е\t1077\t0x435\tTrue\n",
      "ж\t1078\t0x436\tTrue\n",
      "з\t1079\t0x437\tTrue\n",
      "и\t1080\t0x438\tTrue\n",
      "й\t1081\t0x439\tTrue\n",
      "к\t1082\t0x43a\tTrue\n",
      "л\t1083\t0x43b\tTrue\n",
      "м\t1084\t0x43c\tTrue\n",
      "н\t1085\t0x43d\tTrue\n",
      "о\t1086\t0x43e\tTrue\n",
      "п\t1087\t0x43f\tTrue\n",
      "р\t1088\t0x440\tTrue\n",
      "с\t1089\t0x441\tTrue\n",
      "т\t1090\t0x442\tTrue\n",
      "у\t1091\t0x443\tTrue\n",
      "ф\t1092\t0x444\tTrue\n",
      "х\t1093\t0x445\tTrue\n",
      "ц\t1094\t0x446\tTrue\n",
      "ч\t1095\t0x447\tTrue\n",
      "ш\t1096\t0x448\tTrue\n",
      "щ\t1097\t0x449\tTrue\n",
      "ы\t1099\t0x44b\tTrue\n",
      "ь\t1100\t0x44c\tTrue\n",
      "э\t1101\t0x44d\tTrue\n",
      "ю\t1102\t0x44e\tTrue\n",
      "я\t1103\t0x44f\tTrue\n",
      "ё\t1105\t0x451\tTrue\n",
      "–\t8211\t0x2013\tTrue\n"
     ]
    }
   ],
   "source": [
    "print(f'Char\\tDec\\tHex\\tPrintable?')\n",
    "for i,c in enumerate(sorted(set(text))):\n",
    "    print(f'{c}\\t{ord(c)}\\t{hex(ord(c))}\\t{c.isprintable()}')"
   ]
  },
  {
   "cell_type": "markdown",
   "metadata": {},
   "source": [
    "\n",
    "### Set of characters in the cleaned text"
   ]
  },
  {
   "cell_type": "code",
   "execution_count": null,
   "metadata": {
    "tags": []
   },
   "outputs": [
    {
     "name": "stdout",
     "output_type": "stream",
     "text": [
      "Char\tDec\tHex\tPrintable?\n",
      " \t32\t0x20\tTrue\n",
      ",\t44\t0x2c\tTrue\n",
      "-\t45\t0x2d\tTrue\n",
      ".\t46\t0x2e\tTrue\n",
      ":\t58\t0x3a\tTrue\n",
      "?\t63\t0x3f\tTrue\n",
      "а\t1072\t0x430\tTrue\n",
      "б\t1073\t0x431\tTrue\n",
      "в\t1074\t0x432\tTrue\n",
      "г\t1075\t0x433\tTrue\n",
      "д\t1076\t0x434\tTrue\n",
      "е\t1077\t0x435\tTrue\n",
      "ж\t1078\t0x436\tTrue\n",
      "з\t1079\t0x437\tTrue\n",
      "и\t1080\t0x438\tTrue\n",
      "й\t1081\t0x439\tTrue\n",
      "к\t1082\t0x43a\tTrue\n",
      "л\t1083\t0x43b\tTrue\n",
      "м\t1084\t0x43c\tTrue\n",
      "н\t1085\t0x43d\tTrue\n",
      "о\t1086\t0x43e\tTrue\n",
      "п\t1087\t0x43f\tTrue\n",
      "р\t1088\t0x440\tTrue\n",
      "с\t1089\t0x441\tTrue\n",
      "т\t1090\t0x442\tTrue\n",
      "у\t1091\t0x443\tTrue\n",
      "ф\t1092\t0x444\tTrue\n",
      "х\t1093\t0x445\tTrue\n",
      "ц\t1094\t0x446\tTrue\n",
      "ч\t1095\t0x447\tTrue\n",
      "ш\t1096\t0x448\tTrue\n",
      "щ\t1097\t0x449\tTrue\n",
      "ы\t1099\t0x44b\tTrue\n",
      "ь\t1100\t0x44c\tTrue\n",
      "э\t1101\t0x44d\tTrue\n",
      "ю\t1102\t0x44e\tTrue\n",
      "я\t1103\t0x44f\tTrue\n",
      "ё\t1105\t0x451\tTrue\n",
      "–\t8211\t0x2013\tTrue\n"
     ]
    }
   ],
   "source": [
    "print(f'Char\\tDec\\tHex\\tPrintable?')\n",
    "for i,c in enumerate(sorted(set(russian_cleaner2(text)))):\n",
    "    print(f'{c}\\t{ord(c)}\\t{hex(ord(c))}\\t{c.isprintable()}')"
   ]
  },
  {
   "cell_type": "markdown",
   "metadata": {},
   "source": [
    "### Set of the removed/replaced characters"
   ]
  },
  {
   "cell_type": "code",
   "execution_count": null,
   "metadata": {
    "tags": []
   },
   "outputs": [
    {
     "name": "stdout",
     "output_type": "stream",
     "text": [
      "Char\tDec\tHex\tPrintable?\n",
      "А\t1040\t0x410\tTrue\n",
      "Б\t1041\t0x411\tTrue\n",
      "В\t1042\t0x412\tTrue\n",
      "Г\t1043\t0x413\tTrue\n",
      "Д\t1044\t0x414\tTrue\n",
      "Е\t1045\t0x415\tTrue\n",
      "З\t1047\t0x417\tTrue\n",
      "И\t1048\t0x418\tTrue\n",
      "К\t1050\t0x41a\tTrue\n",
      "Л\t1051\t0x41b\tTrue\n",
      "М\t1052\t0x41c\tTrue\n",
      "Н\t1053\t0x41d\tTrue\n",
      "О\t1054\t0x41e\tTrue\n",
      "П\t1055\t0x41f\tTrue\n",
      "Р\t1056\t0x420\tTrue\n",
      "С\t1057\t0x421\tTrue\n",
      "Т\t1058\t0x422\tTrue\n",
      "У\t1059\t0x423\tTrue\n",
      "Ф\t1060\t0x424\tTrue\n",
      "Ч\t1063\t0x427\tTrue\n",
      "Ы\t1067\t0x42b\tTrue\n",
      "Э\t1069\t0x42d\tTrue\n"
     ]
    }
   ],
   "source": [
    "print(f'Char\\tDec\\tHex\\tPrintable?')\n",
    "for i,c in enumerate(sorted( set(text).difference(set(russian_cleaner2(text))))):\n",
    "    print(f'{c}\\t{ord(c)}\\t{hex(ord(c))}\\t{c.isprintable()}')"
   ]
  },
  {
   "cell_type": "code",
   "execution_count": null,
   "metadata": {},
   "outputs": [],
   "source": [
    "assert check_no_numbers(russian_cleaner(text))== []"
   ]
  },
  {
   "cell_type": "code",
   "execution_count": null,
   "metadata": {},
   "outputs": [],
   "source": [
    "text = '''Восклицательное предложение! А это какое? Инициалы -- не повод разрывать. Правда, А.С. Пушкин? -- Разумеется, голубчик. (Скобки оставляем.)'''"
   ]
  },
  {
   "cell_type": "code",
   "execution_count": null,
   "metadata": {
    "tags": []
   },
   "outputs": [
    {
     "name": "stdout",
     "output_type": "stream",
     "text": [
      "Восклицательное предложение!\n",
      "А это какое?\n",
      "Инициалы -- не повод разрывать.\n",
      "Правда, А.С. Пушкин?\n",
      "-- Разумеется, голубчик.\n",
      "(Скобки оставляем.)\n"
     ]
    }
   ],
   "source": [
    "for _ in sentenize(text):\n",
    "    print(_.text)"
   ]
  },
  {
   "cell_type": "code",
   "execution_count": null,
   "metadata": {
    "tags": []
   },
   "outputs": [
    {
     "name": "stdout",
     "output_type": "stream",
     "text": [
      "Converted 01_text_norm.ipynb.\n",
      "Converted 02_data.ipynb.\n",
      "Converted 03_transcribe.ipynb.\n",
      "Converted index.ipynb.\n"
     ]
    }
   ],
   "source": [
    "#hide\n",
    "from nbdev.export import notebook2script\n",
    "notebook2script()"
   ]
  },
  {
   "cell_type": "code",
   "execution_count": null,
   "metadata": {},
   "outputs": [],
   "source": []
  }
 ],
 "metadata": {
  "kernelspec": {
   "display_name": "Python 3",
   "language": "python",
   "name": "python3"
  }
 },
 "nbformat": 4,
 "nbformat_minor": 4
}
