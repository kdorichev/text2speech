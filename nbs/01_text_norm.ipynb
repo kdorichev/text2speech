{
 "cells": [
  {
   "cell_type": "code",
   "execution_count": null,
   "metadata": {},
   "outputs": [],
   "source": [
    "#default_exp text_norm"
   ]
  },
  {
   "cell_type": "markdown",
   "metadata": {},
   "source": [
    "# Text Normalization\n",
    "> Functions used for TTS Dataset Preparation"
   ]
  },
  {
   "cell_type": "code",
   "execution_count": null,
   "metadata": {},
   "outputs": [],
   "source": [
    "#export\n",
    "import re\n",
    "from fastcore.test import *\n",
    "from nbdev.showdoc import *"
   ]
  },
  {
   "cell_type": "code",
   "execution_count": null,
   "metadata": {},
   "outputs": [],
   "source": [
    "#export\n",
    "def collapse_whitespace(text):\n",
    "    \"Replace multiple whitespaces with single space.\"\n",
    "    return re.sub(r'\\s+', ' ', text)"
   ]
  },
  {
   "cell_type": "code",
   "execution_count": null,
   "metadata": {},
   "outputs": [],
   "source": [
    "test_eq(collapse_whitespace(\n",
    "    \" 1  2   3     4     5       \"),\n",
    "    \" 1 2 3 4 5 \")"
   ]
  },
  {
   "cell_type": "code",
   "execution_count": null,
   "metadata": {},
   "outputs": [],
   "source": [
    "#export\n",
    "def lowercase(text):\n",
    "    \"Convert `text` to lower case.\"\n",
    "    return text.lower()"
   ]
  },
  {
   "cell_type": "code",
   "execution_count": null,
   "metadata": {},
   "outputs": [],
   "source": [
    "test_eq(lowercase('ПрИвеТ, ЧуВАК!'), \n",
    "                  'привет, чувак!')"
   ]
  },
  {
   "cell_type": "code",
   "execution_count": null,
   "metadata": {},
   "outputs": [],
   "source": [
    "#export\n",
    "def check_no_numbers(text):\n",
    "    \"Return a list of digits, or empty list, if not found.\"\n",
    "    return re.findall(r\"(\\d+)\", text)"
   ]
  },
  {
   "cell_type": "code",
   "execution_count": null,
   "metadata": {},
   "outputs": [],
   "source": [
    "#exporti\n",
    "_specials = [(re.compile(f'{x[0]}'), x[1]) for x in [\n",
    "  ('!\\.', '!'), # !. -> !\n",
    "  ('\\?\\.', '?'),# ?. -> ?\n",
    "  ('\\/', ''),\n",
    "  ('…', '.'),\n",
    "  ('\\.+', '.')  # ... -> .\n",
    "]]"
   ]
  },
  {
   "cell_type": "code",
   "execution_count": null,
   "metadata": {},
   "outputs": [],
   "source": [
    "#export\n",
    "def remove_specials(text):\n",
    "    \"Replace predefined in `_specials` sequence of characters\"\n",
    "    for regex, replacement in _specials:\n",
    "        text = re.sub(regex, replacement, text)\n",
    "    return text"
   ]
  },
  {
   "cell_type": "code",
   "execution_count": null,
   "metadata": {},
   "outputs": [],
   "source": [
    "test_eq(remove_specials('Ой!. Ага?. Пауза. / Стоп.. Многоточие… Многоточие...'),\n",
    "                        'Ой! Ага? Пауза.  Стоп. Многоточие. Многоточие.')"
   ]
  },
  {
   "cell_type": "code",
   "execution_count": null,
   "metadata": {},
   "outputs": [],
   "source": [
    "#export\n",
    "_abbreviations = [(re.compile(f'\\\\b{x[0]}', re.IGNORECASE), x[1]) for x in [\n",
    "  ('т\\.е\\.', 'то есть'),\n",
    "  ('т\\.к\\.', 'так как'),\n",
    "  ('и т\\.д\\.', 'и так далее.'),\n",
    "  ('и т\\.п\\.', 'и тому подобное.')\n",
    "]]"
   ]
  },
  {
   "cell_type": "code",
   "execution_count": null,
   "metadata": {},
   "outputs": [],
   "source": [
    "#export\n",
    "def expand_abbreviations(text):\n",
    "    \"`expand_abbreviations()` defined in `_abbreviations`\"\n",
    "    for regex, replacement in _abbreviations:\n",
    "        text = re.sub(regex, replacement, text)\n",
    "    return text"
   ]
  },
  {
   "cell_type": "code",
   "execution_count": null,
   "metadata": {},
   "outputs": [],
   "source": [
    "test_eq(\n",
    "    expand_abbreviations('Привет Джон, т.е. Иван. Т.к. русский. И т.д. И т.п.'),\n",
    "                         'Привет Джон, то есть Иван. так как русский. и так далее. и тому подобное.') "
   ]
  },
  {
   "cell_type": "code",
   "execution_count": null,
   "metadata": {},
   "outputs": [],
   "source": [
    "#export\n",
    "def basic_cleaner(text):\n",
    "    \"Basic pipeline: lowercase and collapse whitespaces.\"\n",
    "    text = lowercase(text)\n",
    "    text = collapse_whitespace(text)\n",
    "    return text"
   ]
  },
  {
   "cell_type": "code",
   "execution_count": null,
   "metadata": {},
   "outputs": [],
   "source": [
    "test_eq(basic_cleaner(\n",
    "    'Привет   Джон, т.е. Иван, т.к. русский. И т.д.   и т.п.'),\n",
    "    'привет джон, т.е. иван, т.к. русский. и т.д. и т.п.')"
   ]
  },
  {
   "cell_type": "code",
   "execution_count": null,
   "metadata": {},
   "outputs": [],
   "source": [
    "#exports\n",
    "def russian_cleaner(text):\n",
    "    \"\"\"Pipeline for Russian text cleaning: \n",
    "       lowercase, expand_abbreviations, remove_specials, collapse_whitespace.\"\"\"\n",
    "    text = lowercase(text)\n",
    "    text = expand_abbreviations(text)\n",
    "    text = remove_specials(text)\n",
    "    text = collapse_whitespace(text)\n",
    "    return text"
   ]
  },
  {
   "cell_type": "code",
   "execution_count": null,
   "metadata": {},
   "outputs": [],
   "source": [
    "test_eq(russian_cleaner(\n",
    "        'Привет Джон, т.е.     Иван, т.к. русский. И т.д. и т.п. Ой!. Ага?. / Стоп..'),\n",
    "        'привет джон, то есть иван, так как русский. и так далее. и тому подобное. ой! ага? стоп.')"
   ]
  },
  {
   "cell_type": "code",
   "execution_count": null,
   "metadata": {},
   "outputs": [],
   "source": [
    "test_eq(check_no_numbers('Цифры есть 1 2 3'), ['1', '2', '3'])\n",
    "test_eq(check_no_numbers('Цифр нет'), [])"
   ]
  },
  {
   "cell_type": "code",
   "execution_count": null,
   "metadata": {},
   "outputs": [],
   "source": [
    "import nltk"
   ]
  },
  {
   "cell_type": "code",
   "execution_count": null,
   "metadata": {},
   "outputs": [],
   "source": [
    "text = russian_cleaner('''Америка:  факты и домыслы! Зная статистику золотой лихорадки, мы понимаем, почему первые старатели так торопились добраться до Калифорнии. Между тысяча восемьсот сорок восьмым и пятьдесят восьмым годами, всего за десятилетие, было добыто двадцать четыре миллиона триста тысяч унций золота.\n",
    "По сегодняшним ценам это более тридцати одного миллиарда долларов, но дело было не только в золоте. Сколько было вокруг фантастических историй.  Вот одна из них, известная всем.  После того, как в тысяча восемьсот сорок восьмом году Джеймс Маршалл в воде у лесопилки нашёл несколько самородков, началась первая золотая лихорадка в американской истории.\n",
    "Тысячи храбрецов пустились в далёкое путешествие в Калифорнию по океану. Другие отправились туда в видавших виды повозках.  На одиноких тропах недостатка в опасностях тоже не было, особенно учитывая враждебно настроенных аборигенов.\n",
    "Золотые прииски кишели бородатыми, лохматыми старателями. Удивительно, но золото лежало прямо на поверхности, сверкая на солнце.\n",
    "Поэтому многие первопроходцы разбогатели? Но к середине пятидесятых годов праздник закончился.''')"
   ]
  },
  {
   "cell_type": "code",
   "execution_count": null,
   "metadata": {},
   "outputs": [],
   "source": [
    "text = 'привет джон, т.е. иван, т.к. русский. и т.д. и т.п.'"
   ]
  },
  {
   "cell_type": "code",
   "execution_count": null,
   "metadata": {},
   "outputs": [
    {
     "name": "stdout",
     "output_type": "stream",
     "text": [
      "привет джон, т.е. иван, т.к. русский. \n",
      "---\n",
      "и т.д. и т.п. \n",
      "---\n"
     ]
    }
   ],
   "source": [
    "for sent in nltk.sent_tokenize(text, language=\"russian\"):\n",
    "    print(sent,\"\\n---\")"
   ]
  },
  {
   "cell_type": "code",
   "execution_count": null,
   "metadata": {},
   "outputs": [
    {
     "name": "stdout",
     "output_type": "stream",
     "text": [
      "Converted 01_text_norm.ipynb.\n",
      "Converted index.ipynb.\n"
     ]
    }
   ],
   "source": [
    "#hide\n",
    "from nbdev.export import notebook2script\n",
    "notebook2script()"
   ]
  },
  {
   "cell_type": "code",
   "execution_count": null,
   "metadata": {},
   "outputs": [],
   "source": []
  }
 ],
 "metadata": {
  "kernelspec": {
   "display_name": "Python 3",
   "language": "python",
   "name": "python3"
  }
 },
 "nbformat": 4,
 "nbformat_minor": 4
}
