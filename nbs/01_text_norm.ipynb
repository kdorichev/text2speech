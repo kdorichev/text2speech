{
 "cells": [
  {
   "cell_type": "code",
   "execution_count": null,
   "metadata": {
    "hide_input": true
   },
   "outputs": [],
   "source": [
    "from nbdev import *"
   ]
  },
  {
   "cell_type": "code",
   "execution_count": null,
   "metadata": {},
   "outputs": [
    {
     "name": "stdout",
     "output_type": "stream",
     "text": [
      "Cells will be exported to text2speech.text_norm,\n",
      "unless a different module is specified after an export flag: `%nbdev_export special.module`\n"
     ]
    }
   ],
   "source": [
    "%nbdev_default_export text_norm"
   ]
  },
  {
   "cell_type": "markdown",
   "metadata": {},
   "source": [
    "# Text Normalization\n",
    "> Functions used for TTS Dataset Preparation"
   ]
  },
  {
   "cell_type": "code",
   "execution_count": null,
   "metadata": {},
   "outputs": [],
   "source": [
    "%nbdev_export\n",
    "import re"
   ]
  },
  {
   "cell_type": "code",
   "execution_count": null,
   "metadata": {},
   "outputs": [],
   "source": [
    "#hide\n",
    "from fastcore.test import *\n",
    "from nbdev.showdoc import *"
   ]
  },
  {
   "cell_type": "markdown",
   "metadata": {},
   "source": [
    "## Functions for Pipeline"
   ]
  },
  {
   "cell_type": "code",
   "execution_count": null,
   "metadata": {},
   "outputs": [],
   "source": [
    "%nbdev_export\n",
    "def collapse_whitespace(text):\n",
    "    \"Replace multiple whitespaces with single space.\"\n",
    "    return re.sub(r'\\s+', ' ', text).strip()"
   ]
  },
  {
   "cell_type": "code",
   "execution_count": null,
   "metadata": {},
   "outputs": [],
   "source": [
    "test_eq(collapse_whitespace(\n",
    "    \"\\t\\n 1  2   3     4     5       \\t\\r\\n\"),\n",
    "    \"1 2 3 4 5\")"
   ]
  },
  {
   "cell_type": "code",
   "execution_count": null,
   "metadata": {},
   "outputs": [],
   "source": [
    "test_eq(collapse_whitespace(\n",
    "    \"\\n\\n\\nFirst line after empty lines\\n\\n\\n\"),\n",
    "    \"First line after empty lines\")"
   ]
  },
  {
   "cell_type": "code",
   "execution_count": null,
   "metadata": {},
   "outputs": [],
   "source": [
    "%nbdev_export\n",
    "def lowercase(text):\n",
    "    \"Convert `text` to lower case.\"\n",
    "    return text.lower()"
   ]
  },
  {
   "cell_type": "code",
   "execution_count": null,
   "metadata": {},
   "outputs": [],
   "source": [
    "test_eq(lowercase('ПрИвеТ, ЧуВАК!'), \n",
    "                  'привет, чувак!')"
   ]
  },
  {
   "cell_type": "code",
   "execution_count": null,
   "metadata": {},
   "outputs": [],
   "source": [
    "%nbdev_export\n",
    "def check_no_numbers(text):\n",
    "    \"Return a list of digits, or empty list, if not found.\"\n",
    "    return re.findall(r\"(\\d+)\", text)"
   ]
  },
  {
   "cell_type": "code",
   "execution_count": null,
   "metadata": {},
   "outputs": [],
   "source": [
    "test_eq(check_no_numbers('Цифры есть 1 12 13.4'), ['1', '12', '13', '4'])\n",
    "test_eq(check_no_numbers('Цифр нет'), [])"
   ]
  },
  {
   "cell_type": "code",
   "execution_count": null,
   "metadata": {},
   "outputs": [],
   "source": [
    "%nbdev_export_internal\n",
    "_specials = [(re.compile(f'{x[0]}'), x[1]) for x in [\n",
    "  ('\\(?\\d\\d[:.]\\d\\d\\)?', ''),  # timestamps\n",
    "  ('!\\.', '!'), # !. -> !\n",
    "  ('\\?\\.', '?'),# ?. -> ?\n",
    "  ('\\/', ''),\n",
    "  ('\\s(…)', ' '),\n",
    "  ('…', '.'),\n",
    "  ('\\.+', '.')  # ... -> .\n",
    "]]"
   ]
  },
  {
   "cell_type": "code",
   "execution_count": null,
   "metadata": {},
   "outputs": [],
   "source": [
    "%nbdev_export\n",
    "def remove_specials(text):\n",
    "    \"Replace predefined in `_specials` sequence of characters\"\n",
    "    for regex, replacement in _specials:\n",
    "        text = re.sub(regex, replacement, text)\n",
    "    return text"
   ]
  },
  {
   "cell_type": "code",
   "execution_count": null,
   "metadata": {},
   "outputs": [],
   "source": [
    "test_eq(remove_specials('Многоточие... Многоточие… … …Многоточие'),\n",
    "                        'Многоточие. Многоточие.  Многоточие')"
   ]
  },
  {
   "cell_type": "code",
   "execution_count": null,
   "metadata": {},
   "outputs": [],
   "source": [
    "test_eq(remove_specials('Метки времени 01:12 или 01.01, (01:12) или (01.01) удаляем.'),\n",
    "                        'Метки времени  или ,  или  удаляем.')"
   ]
  },
  {
   "cell_type": "code",
   "execution_count": null,
   "metadata": {},
   "outputs": [],
   "source": [
    "test_eq(remove_specials('Ой!. Ага?. / Стоп..'),\n",
    "                        'Ой! Ага?  Стоп.')"
   ]
  },
  {
   "cell_type": "code",
   "execution_count": null,
   "metadata": {},
   "outputs": [],
   "source": [
    "%nbdev_export\n",
    "_abbreviations = [(re.compile(f'\\\\b{x[0]}', re.IGNORECASE), x[1]) for x in [\n",
    "  ('т\\.е\\.', 'то есть'),\n",
    "  ('т\\.к\\.', 'так как'),\n",
    "  ('и т\\.д\\.', 'и так далее.'),\n",
    "  ('и т\\.п\\.', 'и тому подобное.')\n",
    "]]"
   ]
  },
  {
   "cell_type": "code",
   "execution_count": null,
   "metadata": {},
   "outputs": [],
   "source": [
    "%nbdev_export\n",
    "def expand_abbreviations(text):\n",
    "    \"`expand_abbreviations()` defined in `_abbreviations`\"\n",
    "    for regex, replacement in _abbreviations:\n",
    "        text = re.sub(regex, replacement, text)\n",
    "    return text"
   ]
  },
  {
   "cell_type": "code",
   "execution_count": null,
   "metadata": {},
   "outputs": [],
   "source": [
    "test_eq(\n",
    "    expand_abbreviations('Привет Джон, т.е. Иван. Т.к. русский. И т.д. И т.п.'),\n",
    "                         'Привет Джон, то есть Иван. так как русский. и так далее. и тому подобное.') "
   ]
  },
  {
   "cell_type": "markdown",
   "metadata": {},
   "source": [
    "## Pipelines"
   ]
  },
  {
   "cell_type": "code",
   "execution_count": null,
   "metadata": {},
   "outputs": [],
   "source": [
    "%nbdev_export_and_show\n",
    "def basic_cleaner(text):\n",
    "    \"Basic pipeline: lowercase and collapse whitespaces.\"\n",
    "    text = lowercase(text)\n",
    "    text = collapse_whitespace(text)\n",
    "    return text"
   ]
  },
  {
   "cell_type": "code",
   "execution_count": null,
   "metadata": {},
   "outputs": [],
   "source": [
    "test_eq(basic_cleaner(\n",
    "    'Привет   Джон, т.е. Иван, т.к. русский. И т.д.   и т.п.'),\n",
    "    'привет джон, т.е. иван, т.к. русский. и т.д. и т.п.')"
   ]
  },
  {
   "cell_type": "code",
   "execution_count": null,
   "metadata": {},
   "outputs": [],
   "source": [
    "%nbdev_export_and_show\n",
    "def russian_cleaner(text):\n",
    "    \"Pipeline for Russian text cleaning: lowercase, expand_abbreviations, remove_specials, collapse_whitespace.\"\n",
    "    text = lowercase(text)\n",
    "    text = expand_abbreviations(text)\n",
    "    text = remove_specials(text)\n",
    "    text = collapse_whitespace(text)\n",
    "    return text"
   ]
  },
  {
   "cell_type": "code",
   "execution_count": null,
   "metadata": {},
   "outputs": [],
   "source": [
    "test_eq(russian_cleaner(\n",
    "        'Привет Джон, т.е.     Иван, т.к. русский. И т.д. и т.п. Ой!. Ага?. / Стоп..'),\n",
    "        'привет джон, то есть иван, так как русский. и так далее. и тому подобное. ой! ага? стоп.')"
   ]
  },
  {
   "cell_type": "markdown",
   "metadata": {},
   "source": [
    "## Sentences Tokenizer"
   ]
  },
  {
   "cell_type": "code",
   "execution_count": null,
   "metadata": {},
   "outputs": [],
   "source": [
    "import nltk"
   ]
  },
  {
   "cell_type": "code",
   "execution_count": null,
   "metadata": {},
   "outputs": [],
   "source": [
    "text = '''Восклицательное предложение! А это какое? Инициалы -- не повод разрывать. Правда, А.С. Пушкин? -- Разумеется, голубчик. (Скобки оставляем.)'''"
   ]
  },
  {
   "cell_type": "code",
   "execution_count": null,
   "metadata": {},
   "outputs": [
    {
     "name": "stdout",
     "output_type": "stream",
     "text": [
      "Восклицательное предложение! \n",
      "\n",
      "А это какое? \n",
      "\n",
      "Инициалы -- не повод разрывать. \n",
      "\n",
      "Правда, А.С. Пушкин? \n",
      "\n",
      "-- Разумеется, голубчик. \n",
      "\n",
      "(Скобки оставляем.) \n",
      "\n"
     ]
    }
   ],
   "source": [
    "for sent in nltk.sent_tokenize(text, language=\"russian\"):\n",
    "    print(sent,\"\\n\")"
   ]
  },
  {
   "cell_type": "code",
   "execution_count": null,
   "metadata": {},
   "outputs": [
    {
     "name": "stdout",
     "output_type": "stream",
     "text": [
      "Converted 01_text_norm.ipynb.\n",
      "Converted 02_data.ipynb.\n",
      "Converted Untitled.ipynb.\n",
      "Converted index.ipynb.\n"
     ]
    }
   ],
   "source": [
    "#hide\n",
    "from nbdev.export import notebook2script\n",
    "notebook2script()"
   ]
  },
  {
   "cell_type": "code",
   "execution_count": null,
   "metadata": {},
   "outputs": [],
   "source": []
  }
 ],
 "metadata": {
  "kernelspec": {
   "display_name": "Python 3",
   "language": "python",
   "name": "python3"
  }
 },
 "nbformat": 4,
 "nbformat_minor": 4
}
