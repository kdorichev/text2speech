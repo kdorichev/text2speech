{
 "cells": [
  {
   "cell_type": "code",
   "execution_count": null,
   "metadata": {},
   "outputs": [],
   "source": [
    "#default_exp text_norm"
   ]
  },
  {
   "cell_type": "markdown",
   "metadata": {},
   "source": [
    "# Text normalization for the Dataset\n",
    " >Used for TTS dataset preparation"
   ]
  },
  {
   "cell_type": "code",
   "execution_count": null,
   "metadata": {},
   "outputs": [],
   "source": [
    "#export\n",
    "import re\n",
    "from fastcore.test import *\n",
    "from nbdev.showdoc import *"
   ]
  },
  {
   "cell_type": "code",
   "execution_count": null,
   "metadata": {},
   "outputs": [],
   "source": [
    "#export\n",
    "_whitespace_re = re.compile(r'\\s+')\n",
    "\n",
    "def collapse_whitespace(text):\n",
    "    return re.sub(_whitespace_re, ' ', text)"
   ]
  },
  {
   "cell_type": "code",
   "execution_count": null,
   "metadata": {},
   "outputs": [],
   "source": [
    "test_eq(collapse_whitespace(\" 1  2   3     4     5       \"),\" 1 2 3 4 5 \")"
   ]
  },
  {
   "cell_type": "code",
   "execution_count": null,
   "metadata": {},
   "outputs": [],
   "source": [
    "#export\n",
    "def lowercase(text):\n",
    "    return text.lower()"
   ]
  },
  {
   "cell_type": "code",
   "execution_count": null,
   "metadata": {},
   "outputs": [],
   "source": [
    "test_eq(lowercase('ПрИвеТ ЧуВАК!'), 'привет чувак!')"
   ]
  },
  {
   "cell_type": "code",
   "execution_count": null,
   "metadata": {},
   "outputs": [],
   "source": [
    "#export\n",
    "def check_no_numbers(text):\n",
    "    \"Return a list of digits, or empty, if not found\"\n",
    "    return re.findall(r\"(\\d+)\", text)"
   ]
  },
  {
   "cell_type": "markdown",
   "metadata": {},
   "source": [
    "### Remove Special characters"
   ]
  },
  {
   "cell_type": "code",
   "execution_count": null,
   "metadata": {},
   "outputs": [],
   "source": [
    "#export\n",
    "_specials = [(re.compile(f'{x[0]}'), x[1]) for x in [\n",
    "  ('!\\.', '!'),\n",
    "  ('\\?\\.', '?'),\n",
    "  ('\\/', ''),\n",
    "  ('…', '.'),\n",
    "  ('\\.\\.', '.')\n",
    "]]"
   ]
  },
  {
   "cell_type": "code",
   "execution_count": null,
   "metadata": {},
   "outputs": [],
   "source": [
    "#export\n",
    "def remove_specials(text):\n",
    "    for regex, replacement in _specials:\n",
    "        text = re.sub(regex, replacement, text)\n",
    "    return text"
   ]
  },
  {
   "cell_type": "code",
   "execution_count": null,
   "metadata": {},
   "outputs": [],
   "source": [
    "test_eq(remove_specials('Ой!. Ага?. Пауза./ Стоп.. Многоточие…'),'Ой! Ага? Пауза. Стоп. Многоточие.')"
   ]
  },
  {
   "cell_type": "markdown",
   "metadata": {},
   "source": [
    "### Replace Abbreviations"
   ]
  },
  {
   "cell_type": "code",
   "execution_count": null,
   "metadata": {},
   "outputs": [],
   "source": [
    "#export\n",
    "_abbreviations = [(re.compile(f'\\\\b{x[0]}', re.IGNORECASE), x[1]) for x in [\n",
    "  ('т.е.', 'то есть'),\n",
    "  ('т.к.', 'так как'),\n",
    "  ('и т.д.', 'и так далее'),\n",
    "  ('и т.п.', 'и тому подобное')\n",
    "]]"
   ]
  },
  {
   "cell_type": "code",
   "execution_count": null,
   "metadata": {},
   "outputs": [],
   "source": [
    "#export\n",
    "def expand_abbreviations(text):\n",
    "    for regex, replacement in _abbreviations:\n",
    "        text = re.sub(regex, replacement, text)\n",
    "    return text"
   ]
  },
  {
   "cell_type": "code",
   "execution_count": null,
   "metadata": {},
   "outputs": [],
   "source": [
    "test_eq(expand_abbreviations(\\\n",
    "            'Привет Джон, т.е. Иван. Т.к. русский. И т.д. И т.п.'),\\\n",
    "            'Привет Джон, то есть Иван. так как русский. и так далее и тому подобное') "
   ]
  },
  {
   "cell_type": "markdown",
   "metadata": {},
   "source": [
    "### Cleaning Pipelines"
   ]
  },
  {
   "cell_type": "markdown",
   "metadata": {},
   "source": [
    "#### Basic Cleaning"
   ]
  },
  {
   "cell_type": "code",
   "execution_count": null,
   "metadata": {},
   "outputs": [],
   "source": [
    "#export\n",
    "def basic_cleaner(text):\n",
    "    \"Basic pipeline that lowercases and collapses whitespaces.\"\n",
    "    text = lowercase(text)\n",
    "    text = collapse_whitespace(text)\n",
    "    return text"
   ]
  },
  {
   "cell_type": "code",
   "execution_count": null,
   "metadata": {},
   "outputs": [],
   "source": [
    "test_eq(basic_cleaner(\n",
    "    'Привет   Джон, т.е. Иван, т.к. русский. И т.д. и т.п.'),\n",
    "    'привет джон, т.е. иван, т.к. русский. и т.д. и т.п.')"
   ]
  },
  {
   "cell_type": "markdown",
   "metadata": {},
   "source": [
    "#### Russian Extended Cleaning"
   ]
  },
  {
   "cell_type": "code",
   "execution_count": null,
   "metadata": {},
   "outputs": [],
   "source": [
    "#export\n",
    "def russian_cleaner(text):\n",
    "    \"Pipeline for English text, including number and abbreviation expansion.\"\n",
    "    text = lowercase(text)\n",
    "    text = remove_specials(text)\n",
    "    text = expand_abbreviations(text)\n",
    "    text = collapse_whitespace(text)\n",
    "    numbers = check_no_numbers(text)\n",
    "    if (numbers != []): \n",
    "        print(\"Запишите числительные не цифрами, а словами:\")\n",
    "        print(numbers)\n",
    "    return text"
   ]
  },
  {
   "cell_type": "code",
   "execution_count": null,
   "metadata": {},
   "outputs": [],
   "source": [
    "test_eq(russian_cleaner(\n",
    "        'Привет Джон, т.е.     Иван, т.к. русский. И т.д. и т.п. Ой!. Ага?. / Стоп..'),\n",
    "        'привет джон, то есть иван, так как русский. и так далее и тому подобное ой! ага? стоп.')"
   ]
  },
  {
   "cell_type": "code",
   "execution_count": null,
   "metadata": {},
   "outputs": [],
   "source": [
    "#hide\n",
    "def main():\n",
    "    parser = argparse.ArgumentParser(description=\"Text Normalization Utility\")\n",
    "    parser.add_argument(\"-i\", \"--input\", required=False, help=\"Input text for normalization\")\n",
    "    parser.add_argument(\"-o\", \"--output\", required=False, help=\"Output file name.\")\n",
    "    "
   ]
  },
  {
   "cell_type": "code",
   "execution_count": null,
   "metadata": {},
   "outputs": [
    {
     "name": "stdout",
     "output_type": "stream",
     "text": [
      "Converted 01_text_norm.ipynb.\n",
      "Converted index.ipynb.\n"
     ]
    }
   ],
   "source": [
    "#hide\n",
    "from nbdev.export import notebook2script\n",
    "notebook2script()"
   ]
  },
  {
   "cell_type": "code",
   "execution_count": null,
   "metadata": {},
   "outputs": [],
   "source": []
  }
 ],
 "metadata": {
  "kernelspec": {
   "display_name": "Python 3",
   "language": "python",
   "name": "python3"
  }
 },
 "nbformat": 4,
 "nbformat_minor": 4
}
