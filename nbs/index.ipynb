{
 "cells": [
  {
   "cell_type": "code",
   "execution_count": null,
   "metadata": {},
   "outputs": [],
   "source": [
    "#hide\n",
    "from text2speech.text_norm import *"
   ]
  },
  {
   "cell_type": "markdown",
   "metadata": {},
   "source": [
    "# Text-To-Speech Dataset Preparation Tools and Architecture"
   ]
  },
  {
   "cell_type": "markdown",
   "metadata": {},
   "source": [
    "This repository holds:\n",
    "\n",
    "* a few functions useful for texts normalization for Text-To-Speech (TTS) Dataset preparation;\n",
    "* a script implementing couple pipelines using those functions."
   ]
  },
  {
   "cell_type": "markdown",
   "metadata": {},
   "source": [
    "## Installation"
   ]
  },
  {
   "cell_type": "markdown",
   "metadata": {},
   "source": [
    "For now simply clone this repository and use the python files in the text2speech directory."
   ]
  },
  {
   "cell_type": "markdown",
   "metadata": {},
   "source": [
    "## How to use"
   ]
  },
  {
   "cell_type": "markdown",
   "metadata": {},
   "source": [
    "Run `python normalize_text.py` to see usage message."
   ]
  },
  {
   "cell_type": "markdown",
   "metadata": {},
   "source": [
    "See [tests in the documentation](https://kdorichev.github.io/text2speech/text_norm/) to get the idea how functions are expected to work."
   ]
  },
  {
   "cell_type": "markdown",
   "metadata": {},
   "source": [
    "## Development"
   ]
  },
  {
   "cell_type": "markdown",
   "metadata": {},
   "source": [
    "All phases of development (coding, testing, documentation) are being done completely inside Jupyter Notebooks, thanks to the excellent tool [`nbdev`](http://nbdev.fast.ai/) by [`fast.ai`](https://www.fast.ai/) team."
   ]
  },
  {
   "cell_type": "markdown",
   "metadata": {},
   "source": [
    "## Contributing"
   ]
  },
  {
   "cell_type": "markdown",
   "metadata": {},
   "source": [
    "Ideas, issues and pull-requests are welcome! Please submit via GitHub.\n",
    "\n",
    "Please share, like and upvote, too."
   ]
  },
  {
   "cell_type": "markdown",
   "metadata": {},
   "source": [
    "## Copyright"
   ]
  },
  {
   "cell_type": "markdown",
   "metadata": {},
   "source": [
    "Copyright 2020 onwards, Konstantin Dorichev. Licensed under the Apache License, Version 2.0 (the \"License\"); you may not use this project's files except in compliance with the License. A copy of the License is provided in the LICENSE file in this repository."
   ]
  }
 ],
 "metadata": {
  "kernelspec": {
   "display_name": "Python 3",
   "language": "python",
   "name": "python3"
  }
 },
 "nbformat": 4,
 "nbformat_minor": 4
}
